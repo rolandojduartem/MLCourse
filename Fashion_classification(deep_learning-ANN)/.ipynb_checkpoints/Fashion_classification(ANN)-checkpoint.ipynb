{
 "cells": [
  {
   "cell_type": "markdown",
   "metadata": {},
   "source": [
    "# Fashion images classification using an artificial neural network\n",
    "The main idea with this AI is classify different images with its respective class: \n",
    "0. \tT-shirt/top\n",
    "1. \tTrouser\n",
    "2. \tPullover\n",
    "3. \tDress\n",
    "4. \tCoat\n",
    "5. \tSandal\n",
    "6. \tShirt\n",
    "7. \tSneaker\n",
    "8. \tBag\n",
    "9. \tAnkle boot\n",
    ". There are 60000 images in training dataset and 10000 testing data set"
   ]
  },
  {
   "cell_type": "markdown",
   "metadata": {},
   "source": [
    "## Importing libraries and dataset"
   ]
  },
  {
   "cell_type": "code",
   "execution_count": 1,
   "metadata": {},
   "outputs": [],
   "source": [
    "import numpy as np\n",
    "import tensorflow as tf\n",
    "from tensorflow import keras\n",
    "%matplotlib inline\n",
    "import matplotlib.pyplot as plt"
   ]
  },
  {
   "cell_type": "code",
   "execution_count": 2,
   "metadata": {},
   "outputs": [],
   "source": [
    "fashion_mnist = keras.datasets.fashion_mnist\n",
    "(x_train_full, y_train_full), (x_test, y_test) = fashion_mnist.load_data()"
   ]
  },
  {
   "cell_type": "code",
   "execution_count": 3,
   "metadata": {},
   "outputs": [
    {
     "data": {
      "text/plain": [
       "<matplotlib.image.AxesImage at 0x206cb1df550>"
      ]
     },
     "execution_count": 3,
     "metadata": {},
     "output_type": "execute_result"
    },
    {
     "data": {
      "image/png": "[encoded data removed]",
      "text/plain": [
       "<Figure size 432x288 with 1 Axes>"
      ]
     },
     "metadata": {
      "needs_background": "light"
     },
     "output_type": "display_data"
    }
   ],
   "source": [
    "plt.imshow(x_train_full[1])"
   ]
  },
  {
   "cell_type": "code",
   "execution_count": 4,
   "metadata": {},
   "outputs": [
    {
     "data": {
      "text/plain": [
       "0"
      ]
     },
     "execution_count": 4,
     "metadata": {},
     "output_type": "execute_result"
    }
   ],
   "source": [
    "y_train_full[1] #Class T-shirt/top"
   ]
  },
  {
   "cell_type": "code",
   "execution_count": 5,
   "metadata": {},
   "outputs": [],
   "source": [
    "class_names = [\"T-shirt/top\", \"Trouser\", \"Pullover\", \"Dress\", \"Coat\"\n",
    "               , \"Sandal\", \"Shirt\", \"Sneaker\", \"Bag\", \"Ankle boot\"]"
   ]
  },
  {
   "cell_type": "code",
   "execution_count": 6,
   "metadata": {},
   "outputs": [
    {
     "data": {
      "text/plain": [
       "'T-shirt/top'"
      ]
     },
     "execution_count": 6,
     "metadata": {},
     "output_type": "execute_result"
    }
   ],
   "source": [
    "class_names[y_train_full[1]]"
   ]
  },
  {
   "cell_type": "markdown",
   "metadata": {},
   "source": [
    "## Normalizing data"
   ]
  },
  {
   "cell_type": "code",
   "execution_count": 7,
   "metadata": {},
   "outputs": [],
   "source": [
    "x_train_n = x_train_full / x_train_full.max().astype(np.float64)\n",
    "x_test_n = x_test / x_test.max().astype(np.float64)"
   ]
  },
  {
   "cell_type": "markdown",
   "metadata": {},
   "source": [
    "## Training, validating and testing data split"
   ]
  },
  {
   "cell_type": "code",
   "execution_count": 8,
   "metadata": {},
   "outputs": [],
   "source": [
    "x_valid, x_train = x_train_n[:5000], x_train_n[5000:]\n",
    "y_valid, y_train = y_train_full[:5000], y_train_full[5000:]\n",
    "x_test = x_test_n"
   ]
  },
  {
   "cell_type": "markdown",
   "metadata": {},
   "source": [
    "## Setting the seed"
   ]
  },
  {
   "cell_type": "code",
   "execution_count": 9,
   "metadata": {},
   "outputs": [],
   "source": [
    "np.random.seed(42)\n",
    "tf.random.set_seed(42)"
   ]
  },
  {
   "cell_type": "markdown",
   "metadata": {},
   "source": [
    "## Sequential model"
   ]
  },
  {
   "cell_type": "code",
   "execution_count": 10,
   "metadata": {},
   "outputs": [],
   "source": [
    "model = keras.models.Sequential() #Initialize ANN model\n",
    "model.add(keras.layers.Flatten(input_shape = [28, 28])) #Imput layer 28x28 pixels (images)\n",
    "model.add(keras.layers.Dense(300, activation = \"relu\")) #First hidden layer size:300 with activation function:relu\n",
    "model.add(keras.layers.Dense(100, activation = \"relu\")) #Second hidden layer size:100 with activation function:relu\n",
    "model.add(keras.layers.Dense(10, activation = \"softmax\")) #Output layer with 10 options and using softmax"
   ]
  },
  {
   "cell_type": "code",
   "execution_count": 11,
   "metadata": {},
   "outputs": [
    {
     "name": "stdout",
     "output_type": "stream",
     "text": [
      "Model: \"sequential\"\n",
      "_________________________________________________________________\n",
      "Layer (type)                 Output Shape              Param #   \n",
      "=================================================================\n",
      "flatten (Flatten)            (None, 784)               0         \n",
      "_________________________________________________________________\n",
      "dense (Dense)                (None, 300)               235500    \n",
      "_________________________________________________________________\n",
      "dense_1 (Dense)              (None, 100)               30100     \n",
      "_________________________________________________________________\n",
      "dense_2 (Dense)              (None, 10)                1010      \n",
      "=================================================================\n",
      "Total params: 266,610\n",
      "Trainable params: 266,610\n",
      "Non-trainable params: 0\n",
      "_________________________________________________________________\n"
     ]
    }
   ],
   "source": [
    "model.summary()"
   ]
  },
  {
   "cell_type": "markdown",
   "metadata": {},
   "source": [
    "## Plotting model"
   ]
  },
  {
   "cell_type": "code",
   "execution_count": 12,
   "metadata": {},
   "outputs": [
    {
     "data": {
      "image/png": "[encoded data removed]",
      "text/plain": [
       "<IPython.core.display.Image object>"
      ]
     },
     "execution_count": 12,
     "metadata": {},
     "output_type": "execute_result"
    }
   ],
   "source": [
    "#import pydot\n",
    "keras.utils.plot_model(model)"
   ]
  },
  {
   "cell_type": "code",
   "execution_count": 13,
   "metadata": {},
   "outputs": [],
   "source": [
    "#Obtaining weights and bias\n",
    "weights, bias = model.layers[1].get_weights()"
   ]
  },
  {
   "cell_type": "code",
   "execution_count": 14,
   "metadata": {},
   "outputs": [
    {
     "data": {
      "text/plain": [
       "array([[ 0.02448617, -0.00877795, -0.02189048, ..., -0.02766046,\n",
       "         0.03859074, -0.06889391],\n",
       "       [ 0.00476504, -0.03105379, -0.0586676 , ...,  0.00602964,\n",
       "        -0.02763776, -0.04165364],\n",
       "       [-0.06189284, -0.06901957,  0.07102345, ..., -0.04238207,\n",
       "         0.07121518, -0.07331658],\n",
       "       ...,\n",
       "       [-0.03048757,  0.02155137, -0.05400612, ..., -0.00113463,\n",
       "         0.00228987,  0.05581069],\n",
       "       [ 0.07061854, -0.06960931,  0.07038955, ..., -0.00384101,\n",
       "         0.00034875,  0.02878492],\n",
       "       [-0.06022581,  0.01577859, -0.02585464, ..., -0.00527829,\n",
       "         0.00272203, -0.06793761]], dtype=float32)"
      ]
     },
     "execution_count": 14,
     "metadata": {},
     "output_type": "execute_result"
    }
   ],
   "source": [
    "weights"
   ]
  },
  {
   "cell_type": "code",
   "execution_count": 15,
   "metadata": {},
   "outputs": [
    {
     "data": {
      "text/plain": [
       "(784, 300)"
      ]
     },
     "execution_count": 15,
     "metadata": {},
     "output_type": "execute_result"
    }
   ],
   "source": [
    "weights.shape"
   ]
  },
  {
   "cell_type": "code",
   "execution_count": 16,
   "metadata": {},
   "outputs": [
    {
     "data": {
      "text/plain": [
       "array([0., 0., 0., 0., 0., 0., 0., 0., 0., 0., 0., 0., 0., 0., 0., 0., 0.,\n",
       "       0., 0., 0., 0., 0., 0., 0., 0., 0., 0., 0., 0., 0., 0., 0., 0., 0.,\n",
       "       0., 0., 0., 0., 0., 0., 0., 0., 0., 0., 0., 0., 0., 0., 0., 0., 0.,\n",
       "       0., 0., 0., 0., 0., 0., 0., 0., 0., 0., 0., 0., 0., 0., 0., 0., 0.,\n",
       "       0., 0., 0., 0., 0., 0., 0., 0., 0., 0., 0., 0., 0., 0., 0., 0., 0.,\n",
       "       0., 0., 0., 0., 0., 0., 0., 0., 0., 0., 0., 0., 0., 0., 0., 0., 0.,\n",
       "       0., 0., 0., 0., 0., 0., 0., 0., 0., 0., 0., 0., 0., 0., 0., 0., 0.,\n",
       "       0., 0., 0., 0., 0., 0., 0., 0., 0., 0., 0., 0., 0., 0., 0., 0., 0.,\n",
       "       0., 0., 0., 0., 0., 0., 0., 0., 0., 0., 0., 0., 0., 0., 0., 0., 0.,\n",
       "       0., 0., 0., 0., 0., 0., 0., 0., 0., 0., 0., 0., 0., 0., 0., 0., 0.,\n",
       "       0., 0., 0., 0., 0., 0., 0., 0., 0., 0., 0., 0., 0., 0., 0., 0., 0.,\n",
       "       0., 0., 0., 0., 0., 0., 0., 0., 0., 0., 0., 0., 0., 0., 0., 0., 0.,\n",
       "       0., 0., 0., 0., 0., 0., 0., 0., 0., 0., 0., 0., 0., 0., 0., 0., 0.,\n",
       "       0., 0., 0., 0., 0., 0., 0., 0., 0., 0., 0., 0., 0., 0., 0., 0., 0.,\n",
       "       0., 0., 0., 0., 0., 0., 0., 0., 0., 0., 0., 0., 0., 0., 0., 0., 0.,\n",
       "       0., 0., 0., 0., 0., 0., 0., 0., 0., 0., 0., 0., 0., 0., 0., 0., 0.,\n",
       "       0., 0., 0., 0., 0., 0., 0., 0., 0., 0., 0., 0., 0., 0., 0., 0., 0.,\n",
       "       0., 0., 0., 0., 0., 0., 0., 0., 0., 0., 0.], dtype=float32)"
      ]
     },
     "execution_count": 16,
     "metadata": {},
     "output_type": "execute_result"
    }
   ],
   "source": [
    "bias"
   ]
  },
  {
   "cell_type": "markdown",
   "metadata": {},
   "source": [
    "## Compiling and training the model"
   ]
  },
  {
   "cell_type": "code",
   "execution_count": 17,
   "metadata": {},
   "outputs": [],
   "source": [
    "model.compile(loss = \"sparse_categorical_crossentropy\", #In case binary situation (binary_categorical_crossentropy)\n",
    "             optimizer = \"sgd\", #Stochastic gradient descent\n",
    "             metrics = [\"accuracy\"]) #In this case, I need just calculate accuracy"
   ]
  },
  {
   "cell_type": "code",
   "execution_count": 18,
   "metadata": {},
   "outputs": [
    {
     "name": "stdout",
     "output_type": "stream",
     "text": [
      "Epoch 1/30\n",
      "3438/3438 [==============================] - 10s 3ms/step - loss: 0.8542 - accuracy: 0.7217 - val_loss: 0.4910 - val_accuracy: 0.8282\n",
      "Epoch 2/30\n",
      "3438/3438 [==============================] - 7s 2ms/step - loss: 0.4582 - accuracy: 0.8390 - val_loss: 0.3886 - val_accuracy: 0.8668\n",
      "Epoch 3/30\n",
      "3438/3438 [==============================] - 7s 2ms/step - loss: 0.4060 - accuracy: 0.8551 - val_loss: 0.4467 - val_accuracy: 0.8332\n",
      "Epoch 4/30\n",
      "3438/3438 [==============================] - 7s 2ms/step - loss: 0.3783 - accuracy: 0.8641 - val_loss: 0.3523 - val_accuracy: 0.8748\n",
      "Epoch 5/30\n",
      "3438/3438 [==============================] - 7s 2ms/step - loss: 0.3621 - accuracy: 0.8692 - val_loss: 0.3377 - val_accuracy: 0.8756\n",
      "Epoch 6/30\n",
      "3438/3438 [==============================] - 8s 2ms/step - loss: 0.3316 - accuracy: 0.8793 - val_loss: 0.3347 - val_accuracy: 0.8824\n",
      "Epoch 7/30\n",
      "3438/3438 [==============================] - 7s 2ms/step - loss: 0.3218 - accuracy: 0.8851 - val_loss: 0.3294 - val_accuracy: 0.8786\n",
      "Epoch 8/30\n",
      "3438/3438 [==============================] - 8s 2ms/step - loss: 0.3052 - accuracy: 0.8878 - val_loss: 0.3324 - val_accuracy: 0.8796\n",
      "Epoch 9/30\n",
      "3438/3438 [==============================] - 7s 2ms/step - loss: 0.3017 - accuracy: 0.8904 - val_loss: 0.3443 - val_accuracy: 0.8706\n",
      "Epoch 10/30\n",
      "3438/3438 [==============================] - 8s 2ms/step - loss: 0.2852 - accuracy: 0.8976 - val_loss: 0.3103 - val_accuracy: 0.8894\n",
      "Epoch 11/30\n",
      "3438/3438 [==============================] - 7s 2ms/step - loss: 0.2759 - accuracy: 0.9000 - val_loss: 0.3109 - val_accuracy: 0.8878\n",
      "Epoch 12/30\n",
      "3438/3438 [==============================] - 8s 2ms/step - loss: 0.2673 - accuracy: 0.9017 - val_loss: 0.3162 - val_accuracy: 0.8858\n",
      "Epoch 13/30\n",
      "3438/3438 [==============================] - 8s 2ms/step - loss: 0.2597 - accuracy: 0.9053 - val_loss: 0.2995 - val_accuracy: 0.8966\n",
      "Epoch 14/30\n",
      "3438/3438 [==============================] - 8s 2ms/step - loss: 0.2526 - accuracy: 0.9068 - val_loss: 0.3197 - val_accuracy: 0.8780\n",
      "Epoch 15/30\n",
      "3438/3438 [==============================] - 7s 2ms/step - loss: 0.2496 - accuracy: 0.9094 - val_loss: 0.3001 - val_accuracy: 0.8886\n",
      "Epoch 16/30\n",
      "3438/3438 [==============================] - 8s 2ms/step - loss: 0.2408 - accuracy: 0.9125 - val_loss: 0.2893 - val_accuracy: 0.8892\n",
      "Epoch 17/30\n",
      "3438/3438 [==============================] - 8s 2ms/step - loss: 0.2314 - accuracy: 0.9163 - val_loss: 0.3305 - val_accuracy: 0.8802\n",
      "Epoch 18/30\n",
      "3438/3438 [==============================] - 8s 2ms/step - loss: 0.2312 - accuracy: 0.9156 - val_loss: 0.2957 - val_accuracy: 0.8948\n",
      "Epoch 19/30\n",
      "3438/3438 [==============================] - 7s 2ms/step - loss: 0.2272 - accuracy: 0.9178 - val_loss: 0.3005 - val_accuracy: 0.8904\n",
      "Epoch 20/30\n",
      "3438/3438 [==============================] - 8s 2ms/step - loss: 0.2210 - accuracy: 0.9216 - val_loss: 0.3103 - val_accuracy: 0.8868\n",
      "Epoch 21/30\n",
      "3438/3438 [==============================] - 8s 2ms/step - loss: 0.2174 - accuracy: 0.9216 - val_loss: 0.2810 - val_accuracy: 0.8958\n",
      "Epoch 22/30\n",
      "3438/3438 [==============================] - 8s 2ms/step - loss: 0.2139 - accuracy: 0.9218 - val_loss: 0.2798 - val_accuracy: 0.8982\n",
      "Epoch 23/30\n",
      "3438/3438 [==============================] - 8s 2ms/step - loss: 0.2065 - accuracy: 0.9245 - val_loss: 0.2954 - val_accuracy: 0.8912\n",
      "Epoch 24/30\n",
      "3438/3438 [==============================] - 9s 2ms/step - loss: 0.1964 - accuracy: 0.9276 - val_loss: 0.3066 - val_accuracy: 0.8898\n",
      "Epoch 25/30\n",
      "3438/3438 [==============================] - 8s 2ms/step - loss: 0.1992 - accuracy: 0.9276 - val_loss: 0.2925 - val_accuracy: 0.8952\n",
      "Epoch 26/30\n",
      "3438/3438 [==============================] - 8s 2ms/step - loss: 0.1906 - accuracy: 0.9314 - val_loss: 0.2949 - val_accuracy: 0.8952\n",
      "Epoch 27/30\n",
      "3438/3438 [==============================] - 8s 2ms/step - loss: 0.1881 - accuracy: 0.9323 - val_loss: 0.3036 - val_accuracy: 0.8920\n",
      "Epoch 28/30\n",
      "3438/3438 [==============================] - 8s 2ms/step - loss: 0.1827 - accuracy: 0.9343 - val_loss: 0.2896 - val_accuracy: 0.8954\n",
      "Epoch 29/30\n",
      "3438/3438 [==============================] - 8s 2ms/step - loss: 0.1773 - accuracy: 0.9362 - val_loss: 0.2917 - val_accuracy: 0.8950\n",
      "Epoch 30/30\n",
      "3438/3438 [==============================] - 7s 2ms/step - loss: 0.1751 - accuracy: 0.9373 - val_loss: 0.3125 - val_accuracy: 0.8936\n"
     ]
    }
   ],
   "source": [
    "model_history = model.fit(x_train, y_train, epochs = 30, batch_size = 16, validation_data = (x_valid, y_valid))"
   ]
  },
  {
   "cell_type": "code",
   "execution_count": 19,
   "metadata": {},
   "outputs": [
    {
     "data": {
      "text/plain": [
       "{'verbose': 1, 'epochs': 30, 'steps': 3438}"
      ]
     },
     "execution_count": 19,
     "metadata": {},
     "output_type": "execute_result"
    }
   ],
   "source": [
    "model_history.params"
   ]
  },
  {
   "cell_type": "code",
   "execution_count": 20,
   "metadata": {},
   "outputs": [
    {
     "data": {
      "text/plain": [
       "{'loss': [0.6247153878211975,\n",
       "  0.44142982363700867,\n",
       "  0.3982390761375427,\n",
       "  0.3709219694137573,\n",
       "  0.35171791911125183,\n",
       "  0.33276715874671936,\n",
       "  0.32035842537879944,\n",
       "  0.30854666233062744,\n",
       "  0.29725220799446106,\n",
       "  0.28839555382728577,\n",
       "  0.2804527282714844,\n",
       "  0.2715354859828949,\n",
       "  0.26347967982292175,\n",
       "  0.25763338804244995,\n",
       "  0.25044700503349304,\n",
       "  0.24357831478118896,\n",
       "  0.23877747356891632,\n",
       "  0.232452392578125,\n",
       "  0.22720028460025787,\n",
       "  0.21986177563667297,\n",
       "  0.2156694531440735,\n",
       "  0.21019990742206573,\n",
       "  0.20665335655212402,\n",
       "  0.201105996966362,\n",
       "  0.19616049528121948,\n",
       "  0.19209814071655273,\n",
       "  0.18783751130104065,\n",
       "  0.1838429868221283,\n",
       "  0.17908889055252075,\n",
       "  0.17589595913887024],\n",
       " 'accuracy': [0.7891636490821838,\n",
       "  0.8442363739013672,\n",
       "  0.8577272891998291,\n",
       "  0.8676000237464905,\n",
       "  0.8740363717079163,\n",
       "  0.8796363472938538,\n",
       "  0.885200023651123,\n",
       "  0.8876181840896606,\n",
       "  0.8923636078834534,\n",
       "  0.895618200302124,\n",
       "  0.8984181880950928,\n",
       "  0.9006909132003784,\n",
       "  0.903109073638916,\n",
       "  0.9058545231819153,\n",
       "  0.9085454344749451,\n",
       "  0.911690890789032,\n",
       "  0.9125636219978333,\n",
       "  0.9147999882698059,\n",
       "  0.9178909063339233,\n",
       "  0.9210545420646667,\n",
       "  0.9212727546691895,\n",
       "  0.9232363700866699,\n",
       "  0.9248727560043335,\n",
       "  0.9264727234840393,\n",
       "  0.9279636144638062,\n",
       "  0.930436372756958,\n",
       "  0.9313818216323853,\n",
       "  0.9331091046333313,\n",
       "  0.9355454444885254,\n",
       "  0.936127245426178],\n",
       " 'val_loss': [0.4910113215446472,\n",
       "  0.38863450288772583,\n",
       "  0.44666239619255066,\n",
       "  0.3522675633430481,\n",
       "  0.33770161867141724,\n",
       "  0.33468490839004517,\n",
       "  0.3294299244880676,\n",
       "  0.3323749899864197,\n",
       "  0.344340980052948,\n",
       "  0.3102771043777466,\n",
       "  0.3108544647693634,\n",
       "  0.31618204712867737,\n",
       "  0.29948949813842773,\n",
       "  0.3196764290332794,\n",
       "  0.30008620023727417,\n",
       "  0.289326548576355,\n",
       "  0.33046016097068787,\n",
       "  0.29568687081336975,\n",
       "  0.30054226517677307,\n",
       "  0.31033602356910706,\n",
       "  0.2809828519821167,\n",
       "  0.27976033091545105,\n",
       "  0.29541143774986267,\n",
       "  0.3065846562385559,\n",
       "  0.29245883226394653,\n",
       "  0.294853150844574,\n",
       "  0.3036244809627533,\n",
       "  0.28956663608551025,\n",
       "  0.2917017936706543,\n",
       "  0.31251248717308044],\n",
       " 'val_accuracy': [0.8281999826431274,\n",
       "  0.8668000102043152,\n",
       "  0.8331999778747559,\n",
       "  0.8748000264167786,\n",
       "  0.8755999803543091,\n",
       "  0.8823999762535095,\n",
       "  0.878600001335144,\n",
       "  0.8795999884605408,\n",
       "  0.8705999851226807,\n",
       "  0.8894000053405762,\n",
       "  0.8877999782562256,\n",
       "  0.8858000040054321,\n",
       "  0.8966000080108643,\n",
       "  0.878000020980835,\n",
       "  0.8885999917984009,\n",
       "  0.88919997215271,\n",
       "  0.8802000284194946,\n",
       "  0.8948000073432922,\n",
       "  0.8903999924659729,\n",
       "  0.8867999911308289,\n",
       "  0.895799994468689,\n",
       "  0.8981999754905701,\n",
       "  0.8912000060081482,\n",
       "  0.8898000121116638,\n",
       "  0.8952000141143799,\n",
       "  0.8952000141143799,\n",
       "  0.8920000195503235,\n",
       "  0.8953999876976013,\n",
       "  0.8949999809265137,\n",
       "  0.8935999870300293]}"
      ]
     },
     "execution_count": 20,
     "metadata": {},
     "output_type": "execute_result"
    }
   ],
   "source": [
    "model_history.history"
   ]
  },
  {
   "cell_type": "markdown",
   "metadata": {},
   "source": [
    "## Plotting accuracy vs epochs"
   ]
  },
  {
   "cell_type": "code",
   "execution_count": 21,
   "metadata": {},
   "outputs": [
    {
     "data": {
      "image/png": "[encoded data removed]",
      "text/plain": [
       "<Figure size 576x360 with 1 Axes>"
      ]
     },
     "metadata": {
      "needs_background": "light"
     },
     "output_type": "display_data"
    }
   ],
   "source": [
    "import pandas as pd\n",
    "\n",
    "pd.DataFrame(model_history.history).plot(figsize = (8, 5))\n",
    "plt.grid(True)\n",
    "plt.gca().set_ylim(0, 1)\n",
    "plt.show()\n"
   ]
  },
  {
   "cell_type": "markdown",
   "metadata": {},
   "source": [
    "## Model performance"
   ]
  },
  {
   "cell_type": "code",
   "execution_count": 22,
   "metadata": {},
   "outputs": [
    {
     "name": "stdout",
     "output_type": "stream",
     "text": [
      "1719/1719 [==============================] - 3s 1ms/step - loss: 0.1853 - accuracy: 0.9302\n"
     ]
    },
    {
     "data": {
      "text/plain": [
       "[0.18528175354003906, 0.9302181601524353]"
      ]
     },
     "execution_count": 22,
     "metadata": {},
     "output_type": "execute_result"
    }
   ],
   "source": [
    "model.evaluate(x_train, y_train)"
   ]
  },
  {
   "cell_type": "code",
   "execution_count": 23,
   "metadata": {},
   "outputs": [
    {
     "data": {
      "text/plain": [
       "array([[0.  , 0.  , 0.  , 0.  , 0.  , 0.  , 0.  , 0.01, 0.  , 0.99],\n",
       "       [0.  , 0.  , 0.99, 0.  , 0.01, 0.  , 0.  , 0.  , 0.  , 0.  ],\n",
       "       [0.  , 1.  , 0.  , 0.  , 0.  , 0.  , 0.  , 0.  , 0.  , 0.  ]],\n",
       "      dtype=float32)"
      ]
     },
     "execution_count": 23,
     "metadata": {},
     "output_type": "execute_result"
    }
   ],
   "source": [
    "x_new = x_test[:3]\n",
    "y_proba = model.predict(x_new) #Probabilities for each class\n",
    "y_proba.round(2)"
   ]
  },
  {
   "cell_type": "code",
   "execution_count": 24,
   "metadata": {},
   "outputs": [
    {
     "name": "stderr",
     "output_type": "stream",
     "text": [
      "C:\\Users\\Rolando\\anaconda3\\lib\\site-packages\\tensorflow\\python\\keras\\engine\\sequential.py:450: UserWarning: `model.predict_classes()` is deprecated and will be removed after 2021-01-01. Please use instead:* `np.argmax(model.predict(x), axis=-1)`,   if your model does multi-class classification   (e.g. if it uses a `softmax` last-layer activation).* `(model.predict(x) > 0.5).astype(\"int32\")`,   if your model does binary classification   (e.g. if it uses a `sigmoid` last-layer activation).\n",
      "  warnings.warn('`model.predict_classes()` is deprecated and '\n"
     ]
    },
    {
     "data": {
      "text/plain": [
       "array([9, 2, 1], dtype=int64)"
      ]
     },
     "execution_count": 24,
     "metadata": {},
     "output_type": "execute_result"
    }
   ],
   "source": [
    "y_pred = model.predict_classes(x_new)\n",
    "y_pred"
   ]
  },
  {
   "cell_type": "code",
   "execution_count": 25,
   "metadata": {},
   "outputs": [
    {
     "data": {
      "text/plain": [
       "array(['Ankle boot', 'Pullover', 'Trouser'], dtype='<U11')"
      ]
     },
     "execution_count": 25,
     "metadata": {},
     "output_type": "execute_result"
    }
   ],
   "source": [
    "np.array(class_names)[y_pred]"
   ]
  },
  {
   "cell_type": "code",
   "execution_count": 26,
   "metadata": {},
   "outputs": [
    {
     "name": "stdout",
     "output_type": "stream",
     "text": [
      "AxesImage(54,36;334.8x217.44)\n"
     ]
    },
    {
     "data": {
      "image/png": "[encoded data removed]",
      "text/plain": [
       "<Figure size 432x288 with 1 Axes>"
      ]
     },
     "metadata": {
      "needs_background": "light"
     },
     "output_type": "display_data"
    }
   ],
   "source": [
    "print(plt.imshow(x_test[0]))"
   ]
  },
  {
   "cell_type": "code",
   "execution_count": 27,
   "metadata": {},
   "outputs": [
    {
     "name": "stdout",
     "output_type": "stream",
     "text": [
      "AxesImage(54,36;334.8x217.44)\n"
     ]
    },
    {
     "data": {
      "image/png": "[encoded data removed]",
      "text/plain": [
       "<Figure size 432x288 with 1 Axes>"
      ]
     },
     "metadata": {
      "needs_background": "light"
     },
     "output_type": "display_data"
    }
   ],
   "source": [
    "print(plt.imshow(x_test[1]))"
   ]
  },
  {
   "cell_type": "code",
   "execution_count": 28,
   "metadata": {},
   "outputs": [
    {
     "name": "stdout",
     "output_type": "stream",
     "text": [
      "AxesImage(54,36;334.8x217.44)\n"
     ]
    },
    {
     "data": {
      "image/png": "[encoded data removed]",
      "text/plain": [
       "<Figure size 432x288 with 1 Axes>"
      ]
     },
     "metadata": {
      "needs_background": "light"
     },
     "output_type": "display_data"
    }
   ],
   "source": [
    "print(plt.imshow(x_test[2]))"
   ]
  },
  {
   "cell_type": "code",
   "execution_count": 29,
   "metadata": {},
   "outputs": [],
   "source": [
    "from sklearn.metrics import confusion_matrix, accuracy_score"
   ]
  },
  {
   "cell_type": "code",
   "execution_count": 30,
   "metadata": {},
   "outputs": [
    {
     "name": "stderr",
     "output_type": "stream",
     "text": [
      "C:\\Users\\Rolando\\anaconda3\\lib\\site-packages\\tensorflow\\python\\keras\\engine\\sequential.py:450: UserWarning: `model.predict_classes()` is deprecated and will be removed after 2021-01-01. Please use instead:* `np.argmax(model.predict(x), axis=-1)`,   if your model does multi-class classification   (e.g. if it uses a `softmax` last-layer activation).* `(model.predict(x) > 0.5).astype(\"int32\")`,   if your model does binary classification   (e.g. if it uses a `sigmoid` last-layer activation).\n",
      "  warnings.warn('`model.predict_classes()` is deprecated and '\n"
     ]
    },
    {
     "data": {
      "text/plain": [
       "0.8822"
      ]
     },
     "execution_count": 30,
     "metadata": {},
     "output_type": "execute_result"
    }
   ],
   "source": [
    "y_pred = model.predict_classes(x_test)\n",
    "accuracy_score(y_test, y_pred)"
   ]
  },
  {
   "cell_type": "code",
   "execution_count": 31,
   "metadata": {},
   "outputs": [
    {
     "data": {
      "text/plain": [
       "array([[863,   3,  32,  21,   9,   0,  57,   0,  15,   0],\n",
       "       [  3, 978,   1,  12,   1,   1,   2,   0,   2,   0],\n",
       "       [ 13,   1, 774,   7, 174,   0,  31,   0,   0,   0],\n",
       "       [ 22,  12,  19, 874,  53,   0,  15,   0,   5,   0],\n",
       "       [  1,   1,  45,  16, 924,   0,  11,   0,   2,   0],\n",
       "       [  1,   0,   0,   1,   0, 953,   0,  28,   6,  11],\n",
       "       [139,   1, 114,  32, 141,   0, 557,   0,  16,   0],\n",
       "       [  0,   0,   0,   0,   0,   8,   0, 968,   1,  23],\n",
       "       [  4,   0,   2,   4,   8,   1,   2,   3, 976,   0],\n",
       "       [  1,   0,   0,   0,   0,  11,   0,  31,   2, 955]], dtype=int64)"
      ]
     },
     "execution_count": 31,
     "metadata": {},
     "output_type": "execute_result"
    }
   ],
   "source": [
    "confusion_matrix(y_test, y_pred)"
   ]
  },
  {
   "cell_type": "markdown",
   "metadata": {},
   "source": [
    "# Using early stopping"
   ]
  },
  {
   "cell_type": "code",
   "execution_count": 145,
   "metadata": {},
   "outputs": [],
   "source": [
    "del model\n",
    "keras.backend.clear_session()"
   ]
  },
  {
   "cell_type": "code",
   "execution_count": 146,
   "metadata": {},
   "outputs": [],
   "source": [
    "input_ = keras.Input(shape = [28, 28])\n",
    "hidden1 = keras.layers.Dense(300, activation = \"relu\")(input_)\n",
    "hidden2 = keras.layers.Dense(300, activation = \"relu\")(hidden1)\n",
    "concat = keras.layers.concatenate([input_, hidden2])\n",
    "flatten = keras.layers.Flatten()(concat)\n",
    "output = keras.layers.Dense(10,activation = \"softmax\")(flatten)\n",
    "model = keras.models.Model(inputs = [input_], outputs = [output])"
   ]
  },
  {
   "cell_type": "code",
   "execution_count": 147,
   "metadata": {},
   "outputs": [
    {
     "data": {
      "image/png": "[encoded data removed]",
      "text/plain": [
       "<IPython.core.display.Image object>"
      ]
     },
     "execution_count": 147,
     "metadata": {},
     "output_type": "execute_result"
    }
   ],
   "source": [
    "keras.utils.plot_model(model)"
   ]
  },
  {
   "cell_type": "code",
   "execution_count": 148,
   "metadata": {},
   "outputs": [
    {
     "name": "stdout",
     "output_type": "stream",
     "text": [
      "Model: \"model\"\n",
      "__________________________________________________________________________________________________\n",
      "Layer (type)                    Output Shape         Param #     Connected to                     \n",
      "==================================================================================================\n",
      "input_1 (InputLayer)            [(None, 28, 28)]     0                                            \n",
      "__________________________________________________________________________________________________\n",
      "dense (Dense)                   (None, 28, 300)      8700        input_1[0][0]                    \n",
      "__________________________________________________________________________________________________\n",
      "dense_1 (Dense)                 (None, 28, 300)      90300       dense[0][0]                      \n",
      "__________________________________________________________________________________________________\n",
      "concatenate (Concatenate)       (None, 28, 328)      0           input_1[0][0]                    \n",
      "                                                                 dense_1[0][0]                    \n",
      "__________________________________________________________________________________________________\n",
      "flatten (Flatten)               (None, 9184)         0           concatenate[0][0]                \n",
      "__________________________________________________________________________________________________\n",
      "dense_2 (Dense)                 (None, 10)           91850       flatten[0][0]                    \n",
      "==================================================================================================\n",
      "Total params: 190,850\n",
      "Trainable params: 190,850\n",
      "Non-trainable params: 0\n",
      "__________________________________________________________________________________________________\n"
     ]
    }
   ],
   "source": [
    "model.summary()"
   ]
  },
  {
   "cell_type": "code",
   "execution_count": 149,
   "metadata": {},
   "outputs": [],
   "source": [
    "model.compile(loss = \"sparse_categorical_crossentropy\",\n",
    "             optimizer = \"SGD\",\n",
    "             metrics = [\"accuracy\"])"
   ]
  },
  {
   "cell_type": "code",
   "execution_count": 150,
   "metadata": {},
   "outputs": [],
   "source": [
    "checkpoint_cb = keras.callbacks.ModelCheckpoint(\"early_stop.h5\", save_best_only = True)"
   ]
  },
  {
   "cell_type": "code",
   "execution_count": 151,
   "metadata": {},
   "outputs": [],
   "source": [
    "early_stopping_cb = keras.callbacks.EarlyStopping(patience = 10,\n",
    "                                                 restore_best_weights = True)"
   ]
  },
  {
   "cell_type": "code",
   "execution_count": 152,
   "metadata": {},
   "outputs": [
    {
     "name": "stdout",
     "output_type": "stream",
     "text": [
      "Epoch 1/1000\n",
      "3438/3438 [==============================] - 23s 7ms/step - loss: 0.8285 - accuracy: 0.7311 - val_loss: 0.4713 - val_accuracy: 0.8428\n",
      "Epoch 2/1000\n",
      "3438/3438 [==============================] - 23s 7ms/step - loss: 0.4739 - accuracy: 0.8353 - val_loss: 0.4124 - val_accuracy: 0.8620\n",
      "Epoch 3/1000\n",
      "3438/3438 [==============================] - 23s 7ms/step - loss: 0.4242 - accuracy: 0.8503 - val_loss: 0.4228 - val_accuracy: 0.8506\n",
      "Epoch 4/1000\n",
      "3438/3438 [==============================] - 23s 7ms/step - loss: 0.3979 - accuracy: 0.8599 - val_loss: 0.3756 - val_accuracy: 0.8734\n",
      "Epoch 5/1000\n",
      "3438/3438 [==============================] - 23s 7ms/step - loss: 0.3858 - accuracy: 0.8657 - val_loss: 0.3579 - val_accuracy: 0.8748\n",
      "Epoch 6/1000\n",
      "3438/3438 [==============================] - 23s 7ms/step - loss: 0.3559 - accuracy: 0.8731 - val_loss: 0.3533 - val_accuracy: 0.8744\n",
      "Epoch 7/1000\n",
      "3438/3438 [==============================] - 25s 7ms/step - loss: 0.3494 - accuracy: 0.8786 - val_loss: 0.3467 - val_accuracy: 0.8816\n",
      "Epoch 8/1000\n",
      "3438/3438 [==============================] - 23s 7ms/step - loss: 0.3323 - accuracy: 0.8839 - val_loss: 0.3607 - val_accuracy: 0.8724\n",
      "Epoch 9/1000\n",
      "3438/3438 [==============================] - 23s 7ms/step - loss: 0.3338 - accuracy: 0.8821 - val_loss: 0.3533 - val_accuracy: 0.8708\n",
      "Epoch 10/1000\n",
      "3438/3438 [==============================] - 23s 7ms/step - loss: 0.3176 - accuracy: 0.8884 - val_loss: 0.3260 - val_accuracy: 0.8846\n",
      "Epoch 11/1000\n",
      "3438/3438 [==============================] - 23s 7ms/step - loss: 0.3091 - accuracy: 0.8899 - val_loss: 0.3200 - val_accuracy: 0.8872\n",
      "Epoch 12/1000\n",
      "3438/3438 [==============================] - 24s 7ms/step - loss: 0.3024 - accuracy: 0.8913 - val_loss: 0.3191 - val_accuracy: 0.8890\n",
      "Epoch 13/1000\n",
      "3438/3438 [==============================] - 23s 7ms/step - loss: 0.2977 - accuracy: 0.8946 - val_loss: 0.3193 - val_accuracy: 0.8912\n",
      "Epoch 14/1000\n",
      "3438/3438 [==============================] - 23s 7ms/step - loss: 0.2949 - accuracy: 0.8945 - val_loss: 0.3276 - val_accuracy: 0.8814\n",
      "Epoch 15/1000\n",
      "3438/3438 [==============================] - 23s 7ms/step - loss: 0.2883 - accuracy: 0.8953 - val_loss: 0.3124 - val_accuracy: 0.8892\n",
      "Epoch 16/1000\n",
      "3438/3438 [==============================] - 24s 7ms/step - loss: 0.2839 - accuracy: 0.8982 - val_loss: 0.3091 - val_accuracy: 0.8920\n",
      "Epoch 17/1000\n",
      "3438/3438 [==============================] - 24s 7ms/step - loss: 0.2770 - accuracy: 0.9009 - val_loss: 0.3342 - val_accuracy: 0.8842\n",
      "Epoch 18/1000\n",
      "3438/3438 [==============================] - 24s 7ms/step - loss: 0.2776 - accuracy: 0.8992 - val_loss: 0.3055 - val_accuracy: 0.8940\n",
      "Epoch 19/1000\n",
      "3438/3438 [==============================] - 24s 7ms/step - loss: 0.2750 - accuracy: 0.9023 - val_loss: 0.3026 - val_accuracy: 0.8960\n",
      "Epoch 20/1000\n",
      "3438/3438 [==============================] - 27s 8ms/step - loss: 0.2692 - accuracy: 0.9044 - val_loss: 0.3194 - val_accuracy: 0.8860\n",
      "Epoch 21/1000\n",
      "3438/3438 [==============================] - 26s 7ms/step - loss: 0.2701 - accuracy: 0.9039 - val_loss: 0.2926 - val_accuracy: 0.8976\n",
      "Epoch 22/1000\n",
      "3438/3438 [==============================] - 25s 7ms/step - loss: 0.2634 - accuracy: 0.9040 - val_loss: 0.2929 - val_accuracy: 0.8968\n",
      "Epoch 23/1000\n",
      "3438/3438 [==============================] - 25s 7ms/step - loss: 0.2621 - accuracy: 0.9056 - val_loss: 0.3014 - val_accuracy: 0.8934\n",
      "Epoch 24/1000\n",
      "3438/3438 [==============================] - 26s 8ms/step - loss: 0.2537 - accuracy: 0.9088 - val_loss: 0.2932 - val_accuracy: 0.8984\n",
      "Epoch 25/1000\n",
      "3438/3438 [==============================] - 27s 8ms/step - loss: 0.2575 - accuracy: 0.9082 - val_loss: 0.3014 - val_accuracy: 0.8940\n",
      "Epoch 26/1000\n",
      "3438/3438 [==============================] - 26s 8ms/step - loss: 0.2544 - accuracy: 0.9109 - val_loss: 0.2904 - val_accuracy: 0.8990\n",
      "Epoch 27/1000\n",
      "3438/3438 [==============================] - 28s 8ms/step - loss: 0.2509 - accuracy: 0.9095 - val_loss: 0.2963 - val_accuracy: 0.8972\n",
      "Epoch 28/1000\n",
      "3438/3438 [==============================] - 27s 8ms/step - loss: 0.2411 - accuracy: 0.9132 - val_loss: 0.3001 - val_accuracy: 0.8940\n",
      "Epoch 29/1000\n",
      "3438/3438 [==============================] - 26s 8ms/step - loss: 0.2422 - accuracy: 0.9127 - val_loss: 0.2977 - val_accuracy: 0.8942\n",
      "Epoch 30/1000\n",
      "3438/3438 [==============================] - 27s 8ms/step - loss: 0.2394 - accuracy: 0.9166 - val_loss: 0.2956 - val_accuracy: 0.8984\n",
      "Epoch 31/1000\n",
      "3438/3438 [==============================] - 27s 8ms/step - loss: 0.2379 - accuracy: 0.9154 - val_loss: 0.2926 - val_accuracy: 0.8994\n",
      "Epoch 32/1000\n",
      "3438/3438 [==============================] - 27s 8ms/step - loss: 0.2317 - accuracy: 0.9180 - val_loss: 0.2908 - val_accuracy: 0.9014\n",
      "Epoch 33/1000\n",
      "3438/3438 [==============================] - 26s 8ms/step - loss: 0.2269 - accuracy: 0.9190 - val_loss: 0.2950 - val_accuracy: 0.8984\n",
      "Epoch 34/1000\n",
      "3438/3438 [==============================] - 25s 7ms/step - loss: 0.2310 - accuracy: 0.9182 - val_loss: 0.2986 - val_accuracy: 0.8980\n",
      "Epoch 35/1000\n",
      "3438/3438 [==============================] - 26s 8ms/step - loss: 0.2291 - accuracy: 0.9196 - val_loss: 0.2829 - val_accuracy: 0.9020\n",
      "Epoch 36/1000\n",
      "3438/3438 [==============================] - 25s 7ms/step - loss: 0.2203 - accuracy: 0.9213 - val_loss: 0.2962 - val_accuracy: 0.8948\n",
      "Epoch 37/1000\n",
      "3438/3438 [==============================] - 24s 7ms/step - loss: 0.2229 - accuracy: 0.9223 - val_loss: 0.2883 - val_accuracy: 0.9004\n",
      "Epoch 38/1000\n",
      "3438/3438 [==============================] - 27s 8ms/step - loss: 0.2191 - accuracy: 0.9216 - val_loss: 0.2957 - val_accuracy: 0.8956\n",
      "Epoch 39/1000\n",
      "3438/3438 [==============================] - 27s 8ms/step - loss: 0.2158 - accuracy: 0.9253 - val_loss: 0.2866 - val_accuracy: 0.9012\n",
      "Epoch 40/1000\n",
      "3438/3438 [==============================] - 27s 8ms/step - loss: 0.2160 - accuracy: 0.9227 - val_loss: 0.2884 - val_accuracy: 0.9030\n",
      "Epoch 41/1000\n",
      "3438/3438 [==============================] - 27s 8ms/step - loss: 0.2063 - accuracy: 0.9264 - val_loss: 0.2828 - val_accuracy: 0.9030\n",
      "Epoch 42/1000\n",
      "3438/3438 [==============================] - 26s 8ms/step - loss: 0.2076 - accuracy: 0.9271 - val_loss: 0.2815 - val_accuracy: 0.9020\n",
      "Epoch 43/1000\n",
      "3438/3438 [==============================] - 28s 8ms/step - loss: 0.2077 - accuracy: 0.9269 - val_loss: 0.2953 - val_accuracy: 0.8978\n",
      "Epoch 44/1000\n",
      "3438/3438 [==============================] - 26s 8ms/step - loss: 0.2042 - accuracy: 0.9269 - val_loss: 0.2974 - val_accuracy: 0.8970\n",
      "Epoch 45/1000\n",
      "3438/3438 [==============================] - 26s 8ms/step - loss: 0.2028 - accuracy: 0.9299 - val_loss: 0.2859 - val_accuracy: 0.9010\n",
      "Epoch 46/1000\n",
      "3438/3438 [==============================] - 26s 8ms/step - loss: 0.1998 - accuracy: 0.9288 - val_loss: 0.2911 - val_accuracy: 0.9024\n",
      "Epoch 47/1000\n",
      "3438/3438 [==============================] - 26s 8ms/step - loss: 0.1995 - accuracy: 0.9300 - val_loss: 0.2937 - val_accuracy: 0.8990\n",
      "Epoch 48/1000\n",
      "3438/3438 [==============================] - 26s 8ms/step - loss: 0.1970 - accuracy: 0.9311 - val_loss: 0.3147 - val_accuracy: 0.8962\n",
      "Epoch 49/1000\n",
      "3438/3438 [==============================] - 27s 8ms/step - loss: 0.1915 - accuracy: 0.9329 - val_loss: 0.2914 - val_accuracy: 0.9024\n",
      "Epoch 50/1000\n",
      "3438/3438 [==============================] - 27s 8ms/step - loss: 0.1905 - accuracy: 0.9331 - val_loss: 0.3004 - val_accuracy: 0.8976\n",
      "Epoch 51/1000\n",
      "3438/3438 [==============================] - 26s 8ms/step - loss: 0.1934 - accuracy: 0.9320 - val_loss: 0.2890 - val_accuracy: 0.9014\n",
      "Epoch 52/1000\n",
      "3438/3438 [==============================] - 27s 8ms/step - loss: 0.1875 - accuracy: 0.9327 - val_loss: 0.3098 - val_accuracy: 0.8950\n"
     ]
    }
   ],
   "source": [
    "history = model.fit(x_train, y_train, epochs = 1000, batch_size = 16,\n",
    "                    validation_data = (x_valid, y_valid), callbacks = [checkpoint_cb, early_stopping_cb])"
   ]
  },
  {
   "cell_type": "code",
   "execution_count": 154,
   "metadata": {},
   "outputs": [],
   "source": [
    "del model\n",
    "keras.backend.clear_session()"
   ]
  },
  {
   "cell_type": "code",
   "execution_count": 157,
   "metadata": {},
   "outputs": [],
   "source": [
    "model = keras.models.load_model(\"early_stop.h5\")"
   ]
  },
  {
   "cell_type": "code",
   "execution_count": 158,
   "metadata": {},
   "outputs": [
    {
     "name": "stdout",
     "output_type": "stream",
     "text": [
      "313/313 [==============================] - 2s 5ms/step - loss: 0.3116 - accuracy: 0.8899\n"
     ]
    },
    {
     "data": {
      "text/plain": [
       "[0.3115939795970917, 0.8899000287055969]"
      ]
     },
     "execution_count": 158,
     "metadata": {},
     "output_type": "execute_result"
    }
   ],
   "source": [
    "model.evaluate(x_test, y_test)"
   ]
  },
  {
   "cell_type": "code",
   "execution_count": 193,
   "metadata": {},
   "outputs": [],
   "source": [
    "#del model\n",
    "keras.backend.clear_session()\n",
    "np.random.seed(42)\n",
    "tf.random.set_seed(42)"
   ]
  },
  {
   "cell_type": "code",
   "execution_count": 194,
   "metadata": {},
   "outputs": [],
   "source": [
    "model = keras.models.Sequential([\n",
    "    keras.layers.Flatten(input_shape = [28,28]),\n",
    "    keras.layers.Dense(300, activation = \"relu\"),\n",
    "    keras.layers.Dense(300, activation = \"relu\"),\n",
    "    keras.layers.Dense(300, activation = \"relu\"),\n",
    "    keras.layers.Dense(300, activation = \"relu\"),\n",
    "    keras.layers.Dense(300, activation = \"relu\"),\n",
    "    keras.layers.Dense(10, activation = \"softmax\")\n",
    "])"
   ]
  },
  {
   "cell_type": "code",
   "execution_count": 195,
   "metadata": {},
   "outputs": [
    {
     "data": {
      "image/png": "[encoded data removed]",
      "text/plain": [
       "<IPython.core.display.Image object>"
      ]
     },
     "execution_count": 195,
     "metadata": {},
     "output_type": "execute_result"
    }
   ],
   "source": [
    "keras.utils.plot_model(model)"
   ]
  },
  {
   "cell_type": "code",
   "execution_count": 196,
   "metadata": {},
   "outputs": [
    {
     "name": "stdout",
     "output_type": "stream",
     "text": [
      "Model: \"sequential\"\n",
      "_________________________________________________________________\n",
      "Layer (type)                 Output Shape              Param #   \n",
      "=================================================================\n",
      "flatten (Flatten)            (None, 784)               0         \n",
      "_________________________________________________________________\n",
      "dense (Dense)                (None, 300)               235500    \n",
      "_________________________________________________________________\n",
      "dense_1 (Dense)              (None, 300)               90300     \n",
      "_________________________________________________________________\n",
      "dense_2 (Dense)              (None, 300)               90300     \n",
      "_________________________________________________________________\n",
      "dense_3 (Dense)              (None, 300)               90300     \n",
      "_________________________________________________________________\n",
      "dense_4 (Dense)              (None, 300)               90300     \n",
      "_________________________________________________________________\n",
      "dense_5 (Dense)              (None, 10)                3010      \n",
      "=================================================================\n",
      "Total params: 599,710\n",
      "Trainable params: 599,710\n",
      "Non-trainable params: 0\n",
      "_________________________________________________________________\n"
     ]
    }
   ],
   "source": [
    "model.summary()"
   ]
  },
  {
   "cell_type": "code",
   "execution_count": 197,
   "metadata": {},
   "outputs": [],
   "source": [
    "checkpoint_cb = keras.callbacks.ModelCheckpoint(\"early_stop2.h5\", save_best_only = True)\n",
    "early_stopping_cb = keras.callbacks.EarlyStopping(patience = 20,\n",
    "                                                 restore_best_weights = True)"
   ]
  },
  {
   "cell_type": "code",
   "execution_count": 198,
   "metadata": {},
   "outputs": [],
   "source": [
    "model.compile(loss = \"sparse_categorical_crossentropy\",\n",
    "             optimizer = \"SGD\",\n",
    "             metrics = [\"accuracy\"])"
   ]
  },
  {
   "cell_type": "code",
   "execution_count": 199,
   "metadata": {},
   "outputs": [
    {
     "name": "stdout",
     "output_type": "stream",
     "text": [
      "Epoch 1/1000\n",
      "3438/3438 [==============================] - 14s 4ms/step - loss: 0.9641 - accuracy: 0.6746 - val_loss: 0.5082 - val_accuracy: 0.8164\n",
      "Epoch 2/1000\n",
      "3438/3438 [==============================] - 12s 3ms/step - loss: 0.4431 - accuracy: 0.8396 - val_loss: 0.3656 - val_accuracy: 0.8692\n",
      "Epoch 3/1000\n",
      "3438/3438 [==============================] - 12s 3ms/step - loss: 0.3788 - accuracy: 0.8607 - val_loss: 0.4506 - val_accuracy: 0.8244\n",
      "Epoch 4/1000\n",
      "3438/3438 [==============================] - 12s 3ms/step - loss: 0.3481 - accuracy: 0.8712 - val_loss: 0.3292 - val_accuracy: 0.8788\n",
      "Epoch 5/1000\n",
      "3438/3438 [==============================] - 12s 3ms/step - loss: 0.3321 - accuracy: 0.8781 - val_loss: 0.3237 - val_accuracy: 0.8800\n",
      "Epoch 6/1000\n",
      "3438/3438 [==============================] - 12s 3ms/step - loss: 0.2994 - accuracy: 0.8879 - val_loss: 0.3184 - val_accuracy: 0.8842\n",
      "Epoch 7/1000\n",
      "3438/3438 [==============================] - 12s 3ms/step - loss: 0.2903 - accuracy: 0.8921 - val_loss: 0.3170 - val_accuracy: 0.8872\n",
      "Epoch 8/1000\n",
      "3438/3438 [==============================] - 12s 3ms/step - loss: 0.2733 - accuracy: 0.8973 - val_loss: 0.3552 - val_accuracy: 0.8684\n",
      "Epoch 9/1000\n",
      "3438/3438 [==============================] - 12s 3ms/step - loss: 0.2687 - accuracy: 0.8980 - val_loss: 0.3264 - val_accuracy: 0.8802\n",
      "Epoch 10/1000\n",
      "3438/3438 [==============================] - 12s 3ms/step - loss: 0.2531 - accuracy: 0.9067 - val_loss: 0.3061 - val_accuracy: 0.8884\n",
      "Epoch 11/1000\n",
      "3438/3438 [==============================] - 12s 3ms/step - loss: 0.2399 - accuracy: 0.9102 - val_loss: 0.3214 - val_accuracy: 0.8846\n",
      "Epoch 12/1000\n",
      "3438/3438 [==============================] - 12s 3ms/step - loss: 0.2333 - accuracy: 0.9118 - val_loss: 0.3137 - val_accuracy: 0.8828\n",
      "Epoch 13/1000\n",
      "3438/3438 [==============================] - 12s 3ms/step - loss: 0.2239 - accuracy: 0.9166 - val_loss: 0.3041 - val_accuracy: 0.8888\n",
      "Epoch 14/1000\n",
      "3438/3438 [==============================] - 12s 3ms/step - loss: 0.2175 - accuracy: 0.9190 - val_loss: 0.3207 - val_accuracy: 0.8804\n",
      "Epoch 15/1000\n",
      "3438/3438 [==============================] - 12s 3ms/step - loss: 0.2105 - accuracy: 0.9214 - val_loss: 0.3185 - val_accuracy: 0.8856\n",
      "Epoch 16/1000\n",
      "3438/3438 [==============================] - 12s 3ms/step - loss: 0.2030 - accuracy: 0.9236 - val_loss: 0.3022 - val_accuracy: 0.8892\n",
      "Epoch 17/1000\n",
      "3438/3438 [==============================] - 12s 3ms/step - loss: 0.1942 - accuracy: 0.9268 - val_loss: 0.3210 - val_accuracy: 0.8890\n",
      "Epoch 18/1000\n",
      "3438/3438 [==============================] - 12s 3ms/step - loss: 0.1907 - accuracy: 0.9279 - val_loss: 0.2980 - val_accuracy: 0.8938\n",
      "Epoch 19/1000\n",
      "3438/3438 [==============================] - 12s 3ms/step - loss: 0.1846 - accuracy: 0.9302 - val_loss: 0.2978 - val_accuracy: 0.8910\n",
      "Epoch 20/1000\n",
      "3438/3438 [==============================] - 12s 3ms/step - loss: 0.1808 - accuracy: 0.9322 - val_loss: 0.3181 - val_accuracy: 0.8854\n",
      "Epoch 21/1000\n",
      "3438/3438 [==============================] - 12s 3ms/step - loss: 0.1738 - accuracy: 0.9362 - val_loss: 0.3094 - val_accuracy: 0.8958\n",
      "Epoch 22/1000\n",
      "3438/3438 [==============================] - 12s 3ms/step - loss: 0.1720 - accuracy: 0.9359 - val_loss: 0.2914 - val_accuracy: 0.8982\n",
      "Epoch 23/1000\n",
      "3438/3438 [==============================] - 12s 4ms/step - loss: 0.1632 - accuracy: 0.9392 - val_loss: 0.3053 - val_accuracy: 0.8956\n",
      "Epoch 24/1000\n",
      "3438/3438 [==============================] - 12s 3ms/step - loss: 0.1545 - accuracy: 0.9433 - val_loss: 0.3359 - val_accuracy: 0.8926\n",
      "Epoch 25/1000\n",
      "3438/3438 [==============================] - 12s 3ms/step - loss: 0.1549 - accuracy: 0.9413 - val_loss: 0.3545 - val_accuracy: 0.8874\n",
      "Epoch 26/1000\n",
      "3438/3438 [==============================] - 12s 3ms/step - loss: 0.1454 - accuracy: 0.9468 - val_loss: 0.3192 - val_accuracy: 0.8976\n",
      "Epoch 27/1000\n",
      "3438/3438 [==============================] - 13s 4ms/step - loss: 0.1444 - accuracy: 0.9457 - val_loss: 0.3449 - val_accuracy: 0.8898\n",
      "Epoch 28/1000\n",
      "3438/3438 [==============================] - 12s 3ms/step - loss: 0.1381 - accuracy: 0.9477 - val_loss: 0.3210 - val_accuracy: 0.8922\n",
      "Epoch 29/1000\n",
      "3438/3438 [==============================] - 12s 3ms/step - loss: 0.1357 - accuracy: 0.9485 - val_loss: 0.3432 - val_accuracy: 0.8902\n",
      "Epoch 30/1000\n",
      "3438/3438 [==============================] - 12s 3ms/step - loss: 0.1264 - accuracy: 0.9515 - val_loss: 0.3347 - val_accuracy: 0.8956\n",
      "Epoch 31/1000\n",
      "3438/3438 [==============================] - 12s 3ms/step - loss: 0.1241 - accuracy: 0.9535 - val_loss: 0.3421 - val_accuracy: 0.8922\n",
      "Epoch 32/1000\n",
      "3438/3438 [==============================] - 12s 3ms/step - loss: 0.1168 - accuracy: 0.9553 - val_loss: 0.3563 - val_accuracy: 0.8942\n",
      "Epoch 33/1000\n",
      "3438/3438 [==============================] - 12s 3ms/step - loss: 0.1155 - accuracy: 0.9564 - val_loss: 0.3474 - val_accuracy: 0.8954\n",
      "Epoch 34/1000\n",
      "3438/3438 [==============================] - 12s 3ms/step - loss: 0.1165 - accuracy: 0.9564 - val_loss: 0.3896 - val_accuracy: 0.8972\n",
      "Epoch 35/1000\n",
      "3438/3438 [==============================] - 12s 3ms/step - loss: 0.1106 - accuracy: 0.9579 - val_loss: 0.3613 - val_accuracy: 0.9018\n",
      "Epoch 36/1000\n",
      "3438/3438 [==============================] - 12s 4ms/step - loss: 0.1054 - accuracy: 0.9609 - val_loss: 0.3961 - val_accuracy: 0.8936\n",
      "Epoch 37/1000\n",
      "3438/3438 [==============================] - 12s 3ms/step - loss: 0.1052 - accuracy: 0.9601 - val_loss: 0.3990 - val_accuracy: 0.8924\n",
      "Epoch 38/1000\n",
      "3438/3438 [==============================] - 12s 3ms/step - loss: 0.1053 - accuracy: 0.9613 - val_loss: 0.3775 - val_accuracy: 0.8910\n",
      "Epoch 39/1000\n",
      "3438/3438 [==============================] - 12s 3ms/step - loss: 0.0977 - accuracy: 0.9625 - val_loss: 0.4043 - val_accuracy: 0.8988\n",
      "Epoch 40/1000\n",
      "3438/3438 [==============================] - 12s 3ms/step - loss: 0.0977 - accuracy: 0.9633 - val_loss: 0.3971 - val_accuracy: 0.9004\n",
      "Epoch 41/1000\n",
      "3438/3438 [==============================] - 12s 3ms/step - loss: 0.0896 - accuracy: 0.9660 - val_loss: 0.3703 - val_accuracy: 0.9026\n",
      "Epoch 42/1000\n",
      "3438/3438 [==============================] - 12s 3ms/step - loss: 0.0903 - accuracy: 0.9669 - val_loss: 0.4227 - val_accuracy: 0.8908\n"
     ]
    }
   ],
   "source": [
    "history = model.fit(x_train, y_train, epochs = 1000, batch_size = 16,\n",
    "                   validation_data = (x_valid, y_valid), callbacks = [checkpoint_cb, early_stopping_cb])"
   ]
  },
  {
   "cell_type": "code",
   "execution_count": 200,
   "metadata": {},
   "outputs": [],
   "source": [
    "model = keras.models.load_model(\"early_stop2.h5\")"
   ]
  },
  {
   "cell_type": "code",
   "execution_count": 201,
   "metadata": {},
   "outputs": [
    {
     "name": "stdout",
     "output_type": "stream",
     "text": [
      "313/313 [==============================] - 1s 2ms/step - loss: 0.3333 - accuracy: 0.8887\n"
     ]
    },
    {
     "data": {
      "text/plain": [
       "[0.3332850933074951, 0.888700008392334]"
      ]
     },
     "execution_count": 201,
     "metadata": {},
     "output_type": "execute_result"
    }
   ],
   "source": [
    "model.evaluate(x_test, y_test)"
   ]
  },
  {
   "cell_type": "code",
   "execution_count": null,
   "metadata": {},
   "outputs": [],
   "source": []
  }
 ],
 "metadata": {
  "kernelspec": {
   "display_name": "Python 3",
   "language": "python",
   "name": "python3"
  },
  "language_info": {
   "codemirror_mode": {
    "name": "ipython",
    "version": 3
   },
   "file_extension": ".py",
   "mimetype": "text/x-python",
   "name": "python",
   "nbconvert_exporter": "python",
   "pygments_lexer": "ipython3",
   "version": "3.8.5"
  }
 },
 "nbformat": 4,
 "nbformat_minor": 4
}
