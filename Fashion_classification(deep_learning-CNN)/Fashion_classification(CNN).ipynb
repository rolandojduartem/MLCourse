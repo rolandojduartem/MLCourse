{
 "cells": [
  {
   "cell_type": "markdown",
   "metadata": {},
   "source": [
    "# Fashion images classification using an artificial neural network\n",
    "The main idea with this AI is classify different images with its respective class: \n",
    "0. \tT-shirt/top\n",
    "1. \tTrouser\n",
    "2. \tPullover\n",
    "3. \tDress\n",
    "4. \tCoat\n",
    "5. \tSandal\n",
    "6. \tShirt\n",
    "7. \tSneaker\n",
    "8. \tBag\n",
    "9. \tAnkle boot\n",
    ". \n",
    "There are 60000 images in training dataset and 10000 testing data set\n"
   ]
  },
  {
   "cell_type": "markdown",
   "metadata": {},
   "source": [
    "## Importing libraries and dataset"
   ]
  },
  {
   "cell_type": "code",
   "execution_count": 20,
   "metadata": {},
   "outputs": [],
   "source": [
    "import numpy as np\n",
    "import pandas as pd\n",
    "%matplotlib inline\n",
    "import matplotlib as mpl\n",
    "import matplotlib.pyplot as plt"
   ]
  },
  {
   "cell_type": "code",
   "execution_count": 21,
   "metadata": {},
   "outputs": [],
   "source": [
    "import tensorflow as tf\n",
    "import tensorflow.keras as keras"
   ]
  },
  {
   "cell_type": "code",
   "execution_count": 22,
   "metadata": {},
   "outputs": [],
   "source": [
    "fashion_mnist = keras.datasets.fashion_mnist\n",
    "(x_train_full, y_train_full), (x_test, y_test) = fashion_mnist.load_data()"
   ]
  },
  {
   "cell_type": "markdown",
   "metadata": {},
   "source": [
    "## Normalizing data and training and validating data split"
   ]
  },
  {
   "cell_type": "code",
   "execution_count": 23,
   "metadata": {},
   "outputs": [],
   "source": [
    "x_train_n = x_train_full / np.max(x_train_full)\n",
    "x_test_n = x_test / np.max(x_train_full)"
   ]
  },
  {
   "cell_type": "code",
   "execution_count": 24,
   "metadata": {},
   "outputs": [],
   "source": [
    "from sklearn.model_selection import train_test_split\n",
    "x_train, x_valid, y_train, y_valid = train_test_split(x_train_n, y_train_full, \n",
    "                                                      test_size = 0.1, random_state = 42)"
   ]
  },
  {
   "cell_type": "code",
   "execution_count": 25,
   "metadata": {},
   "outputs": [
    {
     "name": "stdout",
     "output_type": "stream",
     "text": [
      "(54000, 28, 28) (54000,) (6000, 28, 28) (6000,)\n"
     ]
    }
   ],
   "source": [
    "print(x_train.shape, y_train.shape, x_valid.shape, y_valid.shape)"
   ]
  },
  {
   "cell_type": "code",
   "execution_count": 26,
   "metadata": {},
   "outputs": [],
   "source": [
    "class_names = [\"T-shirt/top\", \"Trouser\", \"Pullover\", \"Dress\", \"Coat\"\n",
    "               , \"Sandal\", \"Shirt\", \"Sneaker\", \"Bag\", \"Ankle boot\"] "
   ]
  },
  {
   "cell_type": "code",
   "execution_count": 27,
   "metadata": {},
   "outputs": [
    {
     "data": {
      "text/plain": [
       "'Sandal'"
      ]
     },
     "execution_count": 27,
     "metadata": {},
     "output_type": "execute_result"
    }
   ],
   "source": [
    "class_names[y_train[0]] #Indexing with class names list"
   ]
  },
  {
   "cell_type": "code",
   "execution_count": 28,
   "metadata": {},
   "outputs": [
    {
     "data": {
      "text/plain": [
       "<matplotlib.image.AxesImage at 0x1c985fd5be0>"
      ]
     },
     "execution_count": 28,
     "metadata": {},
     "output_type": "execute_result"
    },
    {
     "data": {
      "image/png": "[encoded data removed]",
      "text/plain": [
       "<Figure size 432x288 with 1 Axes>"
      ]
     },
     "metadata": {
      "needs_background": "light"
     },
     "output_type": "display_data"
    }
   ],
   "source": [
    "plt.imshow(x_train[0]) #Plotting the respective object"
   ]
  },
  {
   "cell_type": "markdown",
   "metadata": {},
   "source": [
    "## Reshaping data"
   ]
  },
  {
   "cell_type": "code",
   "execution_count": 29,
   "metadata": {},
   "outputs": [],
   "source": [
    "x_train = x_train.reshape((x_train.shape[0], x_train.shape[1], x_train.shape[2], 1)) #last number is for channels\n",
    "x_valid = x_valid.reshape((x_valid.shape[0], x_valid.shape[1], x_valid.shape[2], 1))\n",
    "x_test_n = x_test_n.reshape((x_test_n.shape[0], x_test_n.shape[1], x_test_n.shape[2], 1))"
   ]
  },
  {
   "cell_type": "markdown",
   "metadata": {},
   "source": [
    "## Creating, compiling and training model\n",
    "### Structure"
   ]
  },
  {
   "cell_type": "markdown",
   "metadata": {},
   "source": [
    "![cnn_structure.jpg](cnn_structure.jpg)"
   ]
  },
  {
   "cell_type": "code",
   "execution_count": 30,
   "metadata": {},
   "outputs": [],
   "source": [
    "from tensorflow.keras.layers import Conv2D, MaxPooling2D, Flatten, Dense\n",
    "np.random.seed(42)\n",
    "tf.random.set_seed(42)\n",
    "model = keras.models.Sequential([\n",
    "    Conv2D(filters = 32, kernel_size = (3, 3), strides = 1, \n",
    "           padding = \"valid\", activation = \"relu\", input_shape = (28, 28, 1)),\n",
    "    MaxPooling2D((2, 2)),\n",
    "    Flatten(),\n",
    "    Dense(300, activation = \"relu\"),\n",
    "    Dense(100, activation = \"relu\"),\n",
    "    Dense(10, activation = \"softmax\")\n",
    "])"
   ]
  },
  {
   "cell_type": "code",
   "execution_count": 31,
   "metadata": {},
   "outputs": [
    {
     "name": "stdout",
     "output_type": "stream",
     "text": [
      "Model: \"sequential\"\n",
      "_________________________________________________________________\n",
      "Layer (type)                 Output Shape              Param #   \n",
      "=================================================================\n",
      "conv2d (Conv2D)              (None, 26, 26, 32)        320       \n",
      "_________________________________________________________________\n",
      "max_pooling2d (MaxPooling2D) (None, 13, 13, 32)        0         \n",
      "_________________________________________________________________\n",
      "flatten (Flatten)            (None, 5408)              0         \n",
      "_________________________________________________________________\n",
      "dense (Dense)                (None, 300)               1622700   \n",
      "_________________________________________________________________\n",
      "dense_1 (Dense)              (None, 100)               30100     \n",
      "_________________________________________________________________\n",
      "dense_2 (Dense)              (None, 10)                1010      \n",
      "=================================================================\n",
      "Total params: 1,654,130\n",
      "Trainable params: 1,654,130\n",
      "Non-trainable params: 0\n",
      "_________________________________________________________________\n"
     ]
    }
   ],
   "source": [
    "model.summary()"
   ]
  },
  {
   "cell_type": "code",
   "execution_count": 32,
   "metadata": {},
   "outputs": [
    {
     "data": {
      "image/png": "[encoded data removed]",
      "text/plain": [
       "<IPython.core.display.Image object>"
      ]
     },
     "execution_count": 32,
     "metadata": {},
     "output_type": "execute_result"
    }
   ],
   "source": [
    "keras.utils.plot_model(model)"
   ]
  },
  {
   "cell_type": "code",
   "execution_count": 33,
   "metadata": {},
   "outputs": [],
   "source": [
    "model.compile(loss = \"sparse_categorical_crossentropy\",\n",
    "             optimizer = \"sgd\",\n",
    "             metrics = [\"accuracy\"])"
   ]
  },
  {
   "cell_type": "code",
   "execution_count": 34,
   "metadata": {},
   "outputs": [
    {
     "name": "stdout",
     "output_type": "stream",
     "text": [
      "Epoch 1/30\n",
      "844/844 [==============================] - 26s 30ms/step - loss: 1.2865 - accuracy: 0.5792 - val_loss: 0.6967 - val_accuracy: 0.7123\n",
      "Epoch 2/30\n",
      "844/844 [==============================] - 25s 30ms/step - loss: 0.5631 - accuracy: 0.7989 - val_loss: 0.5425 - val_accuracy: 0.8033\n",
      "Epoch 3/30\n",
      "844/844 [==============================] - 25s 30ms/step - loss: 0.4929 - accuracy: 0.8225 - val_loss: 0.4606 - val_accuracy: 0.8352\n",
      "Epoch 4/30\n",
      "844/844 [==============================] - 28s 34ms/step - loss: 0.4437 - accuracy: 0.8424 - val_loss: 0.4306 - val_accuracy: 0.8507\n",
      "Epoch 5/30\n",
      "844/844 [==============================] - 27s 32ms/step - loss: 0.4238 - accuracy: 0.8465 - val_loss: 0.4461 - val_accuracy: 0.8398\n",
      "Epoch 6/30\n",
      "844/844 [==============================] - 27s 32ms/step - loss: 0.4078 - accuracy: 0.8550 - val_loss: 0.3986 - val_accuracy: 0.8568\n",
      "Epoch 7/30\n",
      "844/844 [==============================] - 27s 33ms/step - loss: 0.3831 - accuracy: 0.8618 - val_loss: 0.3882 - val_accuracy: 0.8625\n",
      "Epoch 8/30\n",
      "844/844 [==============================] - 28s 33ms/step - loss: 0.3626 - accuracy: 0.8694 - val_loss: 0.3928 - val_accuracy: 0.8537\n",
      "Epoch 9/30\n",
      "844/844 [==============================] - 28s 34ms/step - loss: 0.3524 - accuracy: 0.8730 - val_loss: 0.3609 - val_accuracy: 0.8682\n",
      "Epoch 10/30\n",
      "844/844 [==============================] - 29s 34ms/step - loss: 0.3418 - accuracy: 0.8755 - val_loss: 0.3398 - val_accuracy: 0.8790\n",
      "Epoch 11/30\n",
      "844/844 [==============================] - 29s 34ms/step - loss: 0.3310 - accuracy: 0.8807 - val_loss: 0.3439 - val_accuracy: 0.8748\n",
      "Epoch 12/30\n",
      "844/844 [==============================] - 29s 35ms/step - loss: 0.3193 - accuracy: 0.8845 - val_loss: 0.3484 - val_accuracy: 0.8740\n",
      "Epoch 13/30\n",
      "844/844 [==============================] - 29s 35ms/step - loss: 0.3129 - accuracy: 0.8866 - val_loss: 0.3174 - val_accuracy: 0.8855\n",
      "Epoch 14/30\n",
      "844/844 [==============================] - 30s 35ms/step - loss: 0.3047 - accuracy: 0.8901 - val_loss: 0.3219 - val_accuracy: 0.8830\n",
      "Epoch 15/30\n",
      "844/844 [==============================] - 32s 37ms/step - loss: 0.2982 - accuracy: 0.8903 - val_loss: 0.3121 - val_accuracy: 0.8862\n",
      "Epoch 16/30\n",
      "844/844 [==============================] - 30s 35ms/step - loss: 0.2847 - accuracy: 0.8967 - val_loss: 0.3044 - val_accuracy: 0.8937\n",
      "Epoch 17/30\n",
      "844/844 [==============================] - 29s 35ms/step - loss: 0.2796 - accuracy: 0.8976 - val_loss: 0.3031 - val_accuracy: 0.8863\n",
      "Epoch 18/30\n",
      "844/844 [==============================] - 31s 36ms/step - loss: 0.2740 - accuracy: 0.9001 - val_loss: 0.3022 - val_accuracy: 0.8895\n",
      "Epoch 19/30\n",
      "844/844 [==============================] - 30s 35ms/step - loss: 0.2686 - accuracy: 0.9028 - val_loss: 0.2875 - val_accuracy: 0.8955\n",
      "Epoch 20/30\n",
      "844/844 [==============================] - 30s 36ms/step - loss: 0.2607 - accuracy: 0.9048 - val_loss: 0.3023 - val_accuracy: 0.8952\n",
      "Epoch 21/30\n",
      "844/844 [==============================] - 30s 35ms/step - loss: 0.2595 - accuracy: 0.9043 - val_loss: 0.2763 - val_accuracy: 0.9000\n",
      "Epoch 22/30\n",
      "844/844 [==============================] - 30s 36ms/step - loss: 0.2517 - accuracy: 0.9093 - val_loss: 0.2825 - val_accuracy: 0.8977\n",
      "Epoch 23/30\n",
      "844/844 [==============================] - 30s 35ms/step - loss: 0.2446 - accuracy: 0.9092 - val_loss: 0.2796 - val_accuracy: 0.9002\n",
      "Epoch 24/30\n",
      "844/844 [==============================] - 30s 35ms/step - loss: 0.2411 - accuracy: 0.9101 - val_loss: 0.2877 - val_accuracy: 0.8928\n",
      "Epoch 25/30\n",
      "844/844 [==============================] - 32s 38ms/step - loss: 0.2349 - accuracy: 0.9142 - val_loss: 0.2669 - val_accuracy: 0.9025\n",
      "Epoch 26/30\n",
      "844/844 [==============================] - 31s 36ms/step - loss: 0.2321 - accuracy: 0.9150 - val_loss: 0.2628 - val_accuracy: 0.9022\n",
      "Epoch 27/30\n",
      "844/844 [==============================] - 31s 36ms/step - loss: 0.2282 - accuracy: 0.9182 - val_loss: 0.3041 - val_accuracy: 0.8907\n",
      "Epoch 28/30\n",
      "844/844 [==============================] - 30s 36ms/step - loss: 0.2249 - accuracy: 0.9164 - val_loss: 0.2974 - val_accuracy: 0.8898\n",
      "Epoch 29/30\n",
      "844/844 [==============================] - 30s 36ms/step - loss: 0.2144 - accuracy: 0.9223 - val_loss: 0.2586 - val_accuracy: 0.9040\n",
      "Epoch 30/30\n",
      "844/844 [==============================] - 30s 36ms/step - loss: 0.2155 - accuracy: 0.9213 - val_loss: 0.2604 - val_accuracy: 0.9067\n"
     ]
    }
   ],
   "source": [
    "model_history = model.fit(x_train, y_train, epochs = 30, batch_size = 64,\n",
    "                          validation_data = (x_valid, y_valid))"
   ]
  },
  {
   "cell_type": "code",
   "execution_count": 35,
   "metadata": {},
   "outputs": [
    {
     "data": {
      "image/png": "[encoded data removed]",
      "text/plain": [
       "<Figure size 576x360 with 1 Axes>"
      ]
     },
     "metadata": {
      "needs_background": "light"
     },
     "output_type": "display_data"
    }
   ],
   "source": [
    "pd.DataFrame(model_history.history).plot(figsize = (8, 5))\n",
    "plt.grid()\n",
    "plt.gca().set_ylim(0, 1)\n",
    "plt.show()"
   ]
  },
  {
   "cell_type": "code",
   "execution_count": 37,
   "metadata": {},
   "outputs": [
    {
     "name": "stdout",
     "output_type": "stream",
     "text": [
      "313/313 [==============================] - 2s 7ms/step - loss: 0.2767 - accuracy: 0.8991\n"
     ]
    }
   ],
   "source": [
    "score = model.evaluate(x_test_n, y_test)"
   ]
  },
  {
   "cell_type": "code",
   "execution_count": 46,
   "metadata": {},
   "outputs": [
    {
     "name": "stderr",
     "output_type": "stream",
     "text": [
      "C:\\Users\\Rolando\\anaconda3\\lib\\site-packages\\tensorflow\\python\\keras\\engine\\sequential.py:450: UserWarning: `model.predict_classes()` is deprecated and will be removed after 2021-01-01. Please use instead:* `np.argmax(model.predict(x), axis=-1)`,   if your model does multi-class classification   (e.g. if it uses a `softmax` last-layer activation).* `(model.predict(x) > 0.5).astype(\"int32\")`,   if your model does binary classification   (e.g. if it uses a `sigmoid` last-layer activation).\n",
      "  warnings.warn('`model.predict_classes()` is deprecated and '\n"
     ]
    }
   ],
   "source": [
    "y_pred = model.predict_classes(x_test_n)"
   ]
  },
  {
   "cell_type": "code",
   "execution_count": 47,
   "metadata": {},
   "outputs": [
    {
     "data": {
      "text/plain": [
       "<matplotlib.image.AxesImage at 0x1c986eb8c70>"
      ]
     },
     "execution_count": 47,
     "metadata": {},
     "output_type": "execute_result"
    },
    {
     "data": {
      "image/png": "[encoded data removed]",
      "text/plain": [
       "<Figure size 432x288 with 1 Axes>"
      ]
     },
     "metadata": {
      "needs_background": "light"
     },
     "output_type": "display_data"
    }
   ],
   "source": [
    "plt.imshow(x_test[0])"
   ]
  },
  {
   "cell_type": "code",
   "execution_count": 48,
   "metadata": {},
   "outputs": [
    {
     "data": {
      "text/plain": [
       "'Ankle boot'"
      ]
     },
     "execution_count": 48,
     "metadata": {},
     "output_type": "execute_result"
    }
   ],
   "source": [
    "class_names[y_pred[0]]"
   ]
  },
  {
   "cell_type": "code",
   "execution_count": 49,
   "metadata": {},
   "outputs": [],
   "source": [
    "del model\n",
    "keras.backend.clear_session()"
   ]
  },
  {
   "cell_type": "markdown",
   "metadata": {},
   "source": [
    "In this practice, it is not necessary do callbacks or any hyperparameter tuning, but, I can get an accuracy near of 90%"
   ]
  },
  {
   "cell_type": "markdown",
   "metadata": {},
   "source": [
    "## Pooling vs no pooling"
   ]
  },
  {
   "cell_type": "code",
   "execution_count": 54,
   "metadata": {},
   "outputs": [],
   "source": [
    "np.random.seed(42)\n",
    "tf.random.set_seed(42)\n",
    "model_a = keras.models.Sequential([\n",
    "    Conv2D(filters = 32, kernel_size = (3, 3), strides = 1,\n",
    "          padding = \"valid\", activation = \"relu\", input_shape = (28, 28, 1)),\n",
    "    MaxPooling2D((2, 2)),\n",
    "    Flatten(),\n",
    "    Dense(300, activation = \"relu\"),\n",
    "    Dense(300, activation = \"relu\"),\n",
    "    Dense(10, activation = \"softmax\")\n",
    "])#Pooling\n",
    "\n",
    "model_b = keras.models.Sequential([\n",
    "    Conv2D(filters = 32, kernel_size = (3, 3), strides = 1,\n",
    "          padding = \"valid\", activation = \"relu\", input_shape = (28, 28, 1)),\n",
    "    Flatten(),\n",
    "    Dense(300, activation = \"relu\"),\n",
    "    Dense(300, activation = \"relu\"),\n",
    "    Dense(10, activation = \"softmax\")\n",
    "])#No pooling"
   ]
  },
  {
   "cell_type": "code",
   "execution_count": 55,
   "metadata": {},
   "outputs": [],
   "source": [
    "model_a.compile(loss = \"sparse_categorical_crossentropy\",\n",
    "               optimizer = \"sgd\",\n",
    "               metrics = [\"accuracy\"])\n",
    "\n",
    "model_b.compile(loss = \"sparse_categorical_crossentropy\",\n",
    "               optimizer = \"sgd\",\n",
    "               metrics = [\"accuracy\"])"
   ]
  },
  {
   "cell_type": "code",
   "execution_count": 56,
   "metadata": {},
   "outputs": [
    {
     "name": "stdout",
     "output_type": "stream",
     "text": [
      "Epoch 1/3\n",
      "844/844 [==============================] - 29s 34ms/step - loss: 1.3118 - accuracy: 0.5936 - val_loss: 0.6784 - val_accuracy: 0.7297\n",
      "Epoch 2/3\n",
      "844/844 [==============================] - 28s 33ms/step - loss: 0.5693 - accuracy: 0.7957 - val_loss: 0.5487 - val_accuracy: 0.7985\n",
      "Epoch 3/3\n",
      "844/844 [==============================] - 28s 33ms/step - loss: 0.4957 - accuracy: 0.8206 - val_loss: 0.4674 - val_accuracy: 0.8322\n"
     ]
    },
    {
     "data": {
      "text/plain": [
       "<tensorflow.python.keras.callbacks.History at 0x1c986f31e50>"
      ]
     },
     "execution_count": 56,
     "metadata": {},
     "output_type": "execute_result"
    }
   ],
   "source": [
    "model_a.fit(x_train, y_train, epochs = 3, batch_size = 64, validation_data = (x_valid, y_valid))"
   ]
  },
  {
   "cell_type": "code",
   "execution_count": 57,
   "metadata": {},
   "outputs": [
    {
     "name": "stdout",
     "output_type": "stream",
     "text": [
      "Epoch 1/3\n",
      "844/844 [==============================] - 58s 68ms/step - loss: 1.0558 - accuracy: 0.6536 - val_loss: 0.6490 - val_accuracy: 0.7367\n",
      "Epoch 2/3\n",
      "844/844 [==============================] - 59s 70ms/step - loss: 0.5149 - accuracy: 0.8163 - val_loss: 0.5135 - val_accuracy: 0.8117\n",
      "Epoch 3/3\n",
      "844/844 [==============================] - 62s 73ms/step - loss: 0.4549 - accuracy: 0.8357 - val_loss: 0.4355 - val_accuracy: 0.8427\n"
     ]
    },
    {
     "data": {
      "text/plain": [
       "<tensorflow.python.keras.callbacks.History at 0x1c98729bee0>"
      ]
     },
     "execution_count": 57,
     "metadata": {},
     "output_type": "execute_result"
    }
   ],
   "source": [
    "model_b.fit(x_train, y_train, epochs = 3, batch_size = 64, validation_data = (x_valid, y_valid))"
   ]
  },
  {
   "cell_type": "markdown",
   "metadata": {},
   "source": [
    "The main difference between model is no-pooling model took more time than pooling model, the ecplanation is in no-pooling model needs calculate more parameters than pooling model, you can see it in the next summaries."
   ]
  },
  {
   "cell_type": "code",
   "execution_count": 58,
   "metadata": {},
   "outputs": [
    {
     "name": "stdout",
     "output_type": "stream",
     "text": [
      "Model: \"sequential\"\n",
      "_________________________________________________________________\n",
      "Layer (type)                 Output Shape              Param #   \n",
      "=================================================================\n",
      "conv2d (Conv2D)              (None, 26, 26, 32)        320       \n",
      "_________________________________________________________________\n",
      "max_pooling2d (MaxPooling2D) (None, 13, 13, 32)        0         \n",
      "_________________________________________________________________\n",
      "flatten (Flatten)            (None, 5408)              0         \n",
      "_________________________________________________________________\n",
      "dense (Dense)                (None, 300)               1622700   \n",
      "_________________________________________________________________\n",
      "dense_1 (Dense)              (None, 300)               90300     \n",
      "_________________________________________________________________\n",
      "dense_2 (Dense)              (None, 10)                3010      \n",
      "=================================================================\n",
      "Total params: 1,716,330\n",
      "Trainable params: 1,716,330\n",
      "Non-trainable params: 0\n",
      "_________________________________________________________________\n"
     ]
    }
   ],
   "source": [
    "model_a.summary()"
   ]
  },
  {
   "cell_type": "code",
   "execution_count": 59,
   "metadata": {},
   "outputs": [
    {
     "name": "stdout",
     "output_type": "stream",
     "text": [
      "Model: \"sequential_1\"\n",
      "_________________________________________________________________\n",
      "Layer (type)                 Output Shape              Param #   \n",
      "=================================================================\n",
      "conv2d_1 (Conv2D)            (None, 26, 26, 32)        320       \n",
      "_________________________________________________________________\n",
      "flatten_1 (Flatten)          (None, 21632)             0         \n",
      "_________________________________________________________________\n",
      "dense_3 (Dense)              (None, 300)               6489900   \n",
      "_________________________________________________________________\n",
      "dense_4 (Dense)              (None, 300)               90300     \n",
      "_________________________________________________________________\n",
      "dense_5 (Dense)              (None, 10)                3010      \n",
      "=================================================================\n",
      "Total params: 6,583,530\n",
      "Trainable params: 6,583,530\n",
      "Non-trainable params: 0\n",
      "_________________________________________________________________\n"
     ]
    }
   ],
   "source": [
    "model_b.summary()"
   ]
  },
  {
   "cell_type": "code",
   "execution_count": 60,
   "metadata": {},
   "outputs": [],
   "source": [
    "del model_a\n",
    "del model_b\n",
    "keras.backend.clear_session()"
   ]
  }
 ],
 "metadata": {
  "kernelspec": {
   "display_name": "Python 3",
   "language": "python",
   "name": "python3"
  },
  "language_info": {
   "codemirror_mode": {
    "name": "ipython",
    "version": 3
   },
   "file_extension": ".py",
   "mimetype": "text/x-python",
   "name": "python",
   "nbconvert_exporter": "python",
   "pygments_lexer": "ipython3",
   "version": "3.8.5"
  }
 },
 "nbformat": 4,
 "nbformat_minor": 4
}
