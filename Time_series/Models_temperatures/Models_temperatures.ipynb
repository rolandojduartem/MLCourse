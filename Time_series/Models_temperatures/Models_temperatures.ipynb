{
 "cells": [
  {
   "cell_type": "markdown",
   "id": "488d6dce",
   "metadata": {},
   "source": [
    "# Time series - Different models"
   ]
  },
  {
   "cell_type": "markdown",
   "id": "1de705eb",
   "metadata": {},
   "source": [
    "## Importing libraries and dataset"
   ]
  },
  {
   "cell_type": "code",
   "execution_count": 26,
   "id": "36e69d7a",
   "metadata": {},
   "outputs": [],
   "source": [
    "import numpy as np\n",
    "import pandas as pd\n",
    "import seaborn as sns"
   ]
  },
  {
   "cell_type": "code",
   "execution_count": 2,
   "id": "907a9b5a",
   "metadata": {},
   "outputs": [
    {
     "data": {
      "text/html": [
       "<div>\n",
       "<style scoped>\n",
       "    .dataframe tbody tr th:only-of-type {\n",
       "        vertical-align: middle;\n",
       "    }\n",
       "\n",
       "    .dataframe tbody tr th {\n",
       "        vertical-align: top;\n",
       "    }\n",
       "\n",
       "    .dataframe thead th {\n",
       "        text-align: right;\n",
       "    }\n",
       "</style>\n",
       "<table border=\"1\" class=\"dataframe\">\n",
       "  <thead>\n",
       "    <tr style=\"text-align: right;\">\n",
       "      <th></th>\n",
       "      <th>Date</th>\n",
       "      <th>Temp</th>\n",
       "    </tr>\n",
       "  </thead>\n",
       "  <tbody>\n",
       "    <tr>\n",
       "      <th>0</th>\n",
       "      <td>1981-01-01</td>\n",
       "      <td>20.7</td>\n",
       "    </tr>\n",
       "    <tr>\n",
       "      <th>1</th>\n",
       "      <td>1981-01-02</td>\n",
       "      <td>17.9</td>\n",
       "    </tr>\n",
       "    <tr>\n",
       "      <th>2</th>\n",
       "      <td>1981-01-03</td>\n",
       "      <td>18.8</td>\n",
       "    </tr>\n",
       "    <tr>\n",
       "      <th>3</th>\n",
       "      <td>1981-01-04</td>\n",
       "      <td>14.6</td>\n",
       "    </tr>\n",
       "    <tr>\n",
       "      <th>4</th>\n",
       "      <td>1981-01-05</td>\n",
       "      <td>15.8</td>\n",
       "    </tr>\n",
       "  </tbody>\n",
       "</table>\n",
       "</div>"
      ],
      "text/plain": [
       "        Date  Temp\n",
       "0 1981-01-01  20.7\n",
       "1 1981-01-02  17.9\n",
       "2 1981-01-03  18.8\n",
       "3 1981-01-04  14.6\n",
       "4 1981-01-05  15.8"
      ]
     },
     "execution_count": 2,
     "metadata": {},
     "output_type": "execute_result"
    }
   ],
   "source": [
    "df = pd.read_csv(\"daily-min-temperatures.csv\", header = 0, parse_dates = [0])\n",
    "df.head()"
   ]
  },
  {
   "cell_type": "code",
   "execution_count": 3,
   "id": "5f941041",
   "metadata": {},
   "outputs": [
    {
     "data": {
      "text/html": [
       "<div>\n",
       "<style scoped>\n",
       "    .dataframe tbody tr th:only-of-type {\n",
       "        vertical-align: middle;\n",
       "    }\n",
       "\n",
       "    .dataframe tbody tr th {\n",
       "        vertical-align: top;\n",
       "    }\n",
       "\n",
       "    .dataframe thead th {\n",
       "        text-align: right;\n",
       "    }\n",
       "</style>\n",
       "<table border=\"1\" class=\"dataframe\">\n",
       "  <thead>\n",
       "    <tr style=\"text-align: right;\">\n",
       "      <th></th>\n",
       "      <th>Date</th>\n",
       "      <th>Temp</th>\n",
       "    </tr>\n",
       "    <tr>\n",
       "      <th>Date</th>\n",
       "      <th></th>\n",
       "      <th></th>\n",
       "    </tr>\n",
       "  </thead>\n",
       "  <tbody>\n",
       "    <tr>\n",
       "      <th>1981-01-01</th>\n",
       "      <td>1981-01-01</td>\n",
       "      <td>20.7</td>\n",
       "    </tr>\n",
       "    <tr>\n",
       "      <th>1981-01-02</th>\n",
       "      <td>1981-01-02</td>\n",
       "      <td>17.9</td>\n",
       "    </tr>\n",
       "    <tr>\n",
       "      <th>1981-01-03</th>\n",
       "      <td>1981-01-03</td>\n",
       "      <td>18.8</td>\n",
       "    </tr>\n",
       "    <tr>\n",
       "      <th>1981-01-04</th>\n",
       "      <td>1981-01-04</td>\n",
       "      <td>14.6</td>\n",
       "    </tr>\n",
       "    <tr>\n",
       "      <th>1981-01-05</th>\n",
       "      <td>1981-01-05</td>\n",
       "      <td>15.8</td>\n",
       "    </tr>\n",
       "  </tbody>\n",
       "</table>\n",
       "</div>"
      ],
      "text/plain": [
       "                 Date  Temp\n",
       "Date                       \n",
       "1981-01-01 1981-01-01  20.7\n",
       "1981-01-02 1981-01-02  17.9\n",
       "1981-01-03 1981-01-03  18.8\n",
       "1981-01-04 1981-01-04  14.6\n",
       "1981-01-05 1981-01-05  15.8"
      ]
     },
     "execution_count": 3,
     "metadata": {},
     "output_type": "execute_result"
    }
   ],
   "source": [
    "df.index = df[\"Date\"]\n",
    "df.head()"
   ]
  },
  {
   "cell_type": "markdown",
   "id": "13a5e407",
   "metadata": {},
   "source": [
    "## Exploring dataset"
   ]
  },
  {
   "cell_type": "code",
   "execution_count": 4,
   "id": "55a5b7d9",
   "metadata": {},
   "outputs": [
    {
     "data": {
      "text/plain": [
       "<AxesSubplot:xlabel='Date', ylabel='Temperature (°C)'>"
      ]
     },
     "execution_count": 4,
     "metadata": {},
     "output_type": "execute_result"
    },
    {
     "data": {
      "image/png": "[encoded data removed]",
      "text/plain": [
       "<Figure size 1440x360 with 1 Axes>"
      ]
     },
     "metadata": {
      "needs_background": "light"
     },
     "output_type": "display_data"
    }
   ],
   "source": [
    "df[\"Temp\"].plot(figsize = (20, 5), ylabel = \"Temperature (°C)\")"
   ]
  },
  {
   "cell_type": "code",
   "execution_count": 5,
   "id": "3757ab6d",
   "metadata": {},
   "outputs": [
    {
     "data": {
      "text/plain": [
       "(3650, 2)"
      ]
     },
     "execution_count": 5,
     "metadata": {},
     "output_type": "execute_result"
    }
   ],
   "source": [
    "df.shape"
   ]
  },
  {
   "cell_type": "markdown",
   "id": "d679ed6d",
   "metadata": {},
   "source": [
    "## Train - test split"
   ]
  },
  {
   "cell_type": "code",
   "execution_count": 6,
   "id": "a23cf43f",
   "metadata": {},
   "outputs": [
    {
     "data": {
      "text/plain": [
       "2920"
      ]
     },
     "execution_count": 6,
     "metadata": {},
     "output_type": "execute_result"
    }
   ],
   "source": [
    "train_size = int(df.shape[0] * 0.8)\n",
    "train_size"
   ]
  },
  {
   "cell_type": "code",
   "execution_count": 7,
   "id": "62352ddc",
   "metadata": {},
   "outputs": [
    {
     "name": "stdout",
     "output_type": "stream",
     "text": [
      "(2920, 2) (730, 2)\n"
     ]
    }
   ],
   "source": [
    "train_df = df[0:train_size]\n",
    "test_df = df[train_size:]\n",
    "print(train_df.shape, test_df.shape)"
   ]
  },
  {
   "cell_type": "markdown",
   "id": "de857197",
   "metadata": {},
   "source": [
    "## Persistence model"
   ]
  },
  {
   "cell_type": "code",
   "execution_count": 8,
   "id": "060d05fd",
   "metadata": {},
   "outputs": [
    {
     "data": {
      "text/html": [
       "<div>\n",
       "<style scoped>\n",
       "    .dataframe tbody tr th:only-of-type {\n",
       "        vertical-align: middle;\n",
       "    }\n",
       "\n",
       "    .dataframe tbody tr th {\n",
       "        vertical-align: top;\n",
       "    }\n",
       "\n",
       "    .dataframe thead th {\n",
       "        text-align: right;\n",
       "    }\n",
       "</style>\n",
       "<table border=\"1\" class=\"dataframe\">\n",
       "  <thead>\n",
       "    <tr style=\"text-align: right;\">\n",
       "      <th></th>\n",
       "      <th>Date</th>\n",
       "      <th>Temp</th>\n",
       "    </tr>\n",
       "  </thead>\n",
       "  <tbody>\n",
       "    <tr>\n",
       "      <th>0</th>\n",
       "      <td>1981-01-01</td>\n",
       "      <td>20.7</td>\n",
       "    </tr>\n",
       "    <tr>\n",
       "      <th>1</th>\n",
       "      <td>1981-01-02</td>\n",
       "      <td>17.9</td>\n",
       "    </tr>\n",
       "    <tr>\n",
       "      <th>2</th>\n",
       "      <td>1981-01-03</td>\n",
       "      <td>18.8</td>\n",
       "    </tr>\n",
       "    <tr>\n",
       "      <th>3</th>\n",
       "      <td>1981-01-04</td>\n",
       "      <td>14.6</td>\n",
       "    </tr>\n",
       "    <tr>\n",
       "      <th>4</th>\n",
       "      <td>1981-01-05</td>\n",
       "      <td>15.8</td>\n",
       "    </tr>\n",
       "  </tbody>\n",
       "</table>\n",
       "</div>"
      ],
      "text/plain": [
       "        Date  Temp\n",
       "0 1981-01-01  20.7\n",
       "1 1981-01-02  17.9\n",
       "2 1981-01-03  18.8\n",
       "3 1981-01-04  14.6\n",
       "4 1981-01-05  15.8"
      ]
     },
     "execution_count": 8,
     "metadata": {},
     "output_type": "execute_result"
    }
   ],
   "source": [
    "df = pd.read_csv(\"daily-min-temperatures.csv\", header = 0, parse_dates = [0])\n",
    "df.head()"
   ]
  },
  {
   "cell_type": "code",
   "execution_count": 9,
   "id": "8f336d41",
   "metadata": {},
   "outputs": [
    {
     "data": {
      "text/html": [
       "<div>\n",
       "<style scoped>\n",
       "    .dataframe tbody tr th:only-of-type {\n",
       "        vertical-align: middle;\n",
       "    }\n",
       "\n",
       "    .dataframe tbody tr th {\n",
       "        vertical-align: top;\n",
       "    }\n",
       "\n",
       "    .dataframe thead th {\n",
       "        text-align: right;\n",
       "    }\n",
       "</style>\n",
       "<table border=\"1\" class=\"dataframe\">\n",
       "  <thead>\n",
       "    <tr style=\"text-align: right;\">\n",
       "      <th></th>\n",
       "      <th>Date</th>\n",
       "      <th>Temp</th>\n",
       "      <th>t</th>\n",
       "    </tr>\n",
       "  </thead>\n",
       "  <tbody>\n",
       "    <tr>\n",
       "      <th>0</th>\n",
       "      <td>1981-01-01</td>\n",
       "      <td>20.7</td>\n",
       "      <td>NaN</td>\n",
       "    </tr>\n",
       "    <tr>\n",
       "      <th>1</th>\n",
       "      <td>1981-01-02</td>\n",
       "      <td>17.9</td>\n",
       "      <td>20.7</td>\n",
       "    </tr>\n",
       "    <tr>\n",
       "      <th>2</th>\n",
       "      <td>1981-01-03</td>\n",
       "      <td>18.8</td>\n",
       "      <td>17.9</td>\n",
       "    </tr>\n",
       "    <tr>\n",
       "      <th>3</th>\n",
       "      <td>1981-01-04</td>\n",
       "      <td>14.6</td>\n",
       "      <td>18.8</td>\n",
       "    </tr>\n",
       "    <tr>\n",
       "      <th>4</th>\n",
       "      <td>1981-01-05</td>\n",
       "      <td>15.8</td>\n",
       "      <td>14.6</td>\n",
       "    </tr>\n",
       "  </tbody>\n",
       "</table>\n",
       "</div>"
      ],
      "text/plain": [
       "        Date  Temp     t\n",
       "0 1981-01-01  20.7   NaN\n",
       "1 1981-01-02  17.9  20.7\n",
       "2 1981-01-03  18.8  17.9\n",
       "3 1981-01-04  14.6  18.8\n",
       "4 1981-01-05  15.8  14.6"
      ]
     },
     "execution_count": 9,
     "metadata": {},
     "output_type": "execute_result"
    }
   ],
   "source": [
    "df[\"t\"] = df[\"Temp\"].shift(1)\n",
    "df.head()"
   ]
  },
  {
   "cell_type": "code",
   "execution_count": 10,
   "id": "57c94517",
   "metadata": {},
   "outputs": [
    {
     "name": "stdout",
     "output_type": "stream",
     "text": [
      "(3642, 3) (7, 3)\n"
     ]
    }
   ],
   "source": [
    "train, test = df[1:df.shape[0] - 7], df[df.shape[0] - 7:]\n",
    "print(train.shape, test.shape)"
   ]
  },
  {
   "cell_type": "code",
   "execution_count": 11,
   "id": "f44e862a",
   "metadata": {},
   "outputs": [
    {
     "data": {
      "text/plain": [
       "1    20.7\n",
       "2    17.9\n",
       "3    18.8\n",
       "4    14.6\n",
       "5    15.8\n",
       "Name: t, dtype: float64"
      ]
     },
     "execution_count": 11,
     "metadata": {},
     "output_type": "execute_result"
    }
   ],
   "source": [
    "train_x, train_y = train[\"t\"], train[\"Temp\"]\n",
    "test_x, test_y = test[\"t\"], test[\"Temp\"]\n",
    "train_x.head()"
   ]
  },
  {
   "cell_type": "markdown",
   "id": "5119698b",
   "metadata": {},
   "source": [
    "### walk - forward validation"
   ]
  },
  {
   "cell_type": "code",
   "execution_count": 12,
   "id": "72c599d5",
   "metadata": {},
   "outputs": [
    {
     "name": "stdout",
     "output_type": "stream",
     "text": [
      "3643    10.0\n",
      "3644    12.9\n",
      "3645    14.6\n",
      "3646    14.0\n",
      "3647    13.6\n",
      "3648    13.5\n",
      "3649    15.7\n",
      "Name: t, dtype: float64\n",
      "3643    12.9\n",
      "3644    14.6\n",
      "3645    14.0\n",
      "3646    13.6\n",
      "3647    13.5\n",
      "3648    15.7\n",
      "3649    13.0\n",
      "Name: Temp, dtype: float64\n"
     ]
    }
   ],
   "source": [
    "prediction_per = test_x.copy()\n",
    "print(prediction_per)\n",
    "print(test_y)"
   ]
  },
  {
   "cell_type": "code",
   "execution_count": 13,
   "id": "c3c715dc",
   "metadata": {},
   "outputs": [
    {
     "data": {
      "text/plain": [
       "3.4228571428571413"
      ]
     },
     "execution_count": 13,
     "metadata": {},
     "output_type": "execute_result"
    }
   ],
   "source": [
    "from sklearn.metrics import mean_squared_error\n",
    "mse_per = mean_squared_error(prediction_per, test_y)\n",
    "mse_per"
   ]
  },
  {
   "cell_type": "code",
   "execution_count": 14,
   "id": "bd81a895",
   "metadata": {},
   "outputs": [
    {
     "data": {
      "image/png": "[encoded data removed]",
      "text/plain": [
       "<Figure size 432x288 with 1 Axes>"
      ]
     },
     "metadata": {
      "needs_background": "light"
     },
     "output_type": "display_data"
    }
   ],
   "source": [
    "import matplotlib.pyplot as plt\n",
    "plt.plot(test_y)\n",
    "plt.plot(prediction_per, color = \"red\")\n",
    "plt.legend([\"Real values\", \"Predicted values (Naive)\"])\n",
    "plt.show()"
   ]
  },
  {
   "cell_type": "markdown",
   "id": "bc266ed0",
   "metadata": {},
   "source": [
    "## Auto regression model"
   ]
  },
  {
   "cell_type": "code",
   "execution_count": 15,
   "id": "79a595e1",
   "metadata": {},
   "outputs": [
    {
     "data": {
      "text/plain": [
       "1    17.9\n",
       "2    18.8\n",
       "3    14.6\n",
       "4    15.8\n",
       "5    15.8\n",
       "Name: Temp, dtype: float64"
      ]
     },
     "execution_count": 15,
     "metadata": {},
     "output_type": "execute_result"
    }
   ],
   "source": [
    "train, test = df.Temp[1:df.shape[0] - 7], df.Temp[df.shape[0] - 7:]\n",
    "train.head()"
   ]
  },
  {
   "cell_type": "code",
   "execution_count": 16,
   "id": "f5521183",
   "metadata": {},
   "outputs": [
    {
     "name": "stderr",
     "output_type": "stream",
     "text": [
      "C:\\Users\\Rolando\\anaconda3\\lib\\site-packages\\statsmodels\\tsa\\ar_model.py:791: FutureWarning: \n",
      "statsmodels.tsa.AR has been deprecated in favor of statsmodels.tsa.AutoReg and\n",
      "statsmodels.tsa.SARIMAX.\n",
      "\n",
      "AutoReg adds the ability to specify exogenous variables, include time trends,\n",
      "and add seasonal dummies. The AutoReg API differs from AR since the model is\n",
      "treated as immutable, and so the entire specification including the lag\n",
      "length must be specified when creating the model. This change is too\n",
      "substantial to incorporate into the existing AR api. The function\n",
      "ar_select_order performs lag length selection for AutoReg models.\n",
      "\n",
      "AutoReg only estimates parameters using conditional MLE (OLS). Use SARIMAX to\n",
      "estimate ARX and related models using full MLE via the Kalman Filter.\n",
      "\n",
      "To silence this warning and continue using AR until it is removed, use:\n",
      "\n",
      "import warnings\n",
      "warnings.filterwarnings('ignore', 'statsmodels.tsa.ar_model.AR', FutureWarning)\n",
      "\n",
      "  warnings.warn(AR_DEPRECATION_WARN, FutureWarning)\n"
     ]
    }
   ],
   "source": [
    "from statsmodels.tsa.ar_model import AR\n",
    "model = AR(train)\n",
    "model_fit = model.fit()"
   ]
  },
  {
   "cell_type": "code",
   "execution_count": 17,
   "id": "eb2c6f4a",
   "metadata": {},
   "outputs": [
    {
     "data": {
      "text/plain": [
       "29"
      ]
     },
     "execution_count": 17,
     "metadata": {},
     "output_type": "execute_result"
    }
   ],
   "source": [
    "model_fit.k_ar #No. of lag variables"
   ]
  },
  {
   "cell_type": "code",
   "execution_count": 18,
   "id": "90613393",
   "metadata": {},
   "outputs": [
    {
     "data": {
      "text/plain": [
       "const       0.557544\n",
       "L1.Temp     0.588595\n",
       "L2.Temp    -0.090826\n",
       "L3.Temp     0.048262\n",
       "L4.Temp     0.040065\n",
       "L5.Temp     0.039302\n",
       "L6.Temp     0.025946\n",
       "L7.Temp     0.044668\n",
       "L8.Temp     0.012768\n",
       "L9.Temp     0.037436\n",
       "L10.Temp   -0.000812\n",
       "L11.Temp    0.004791\n",
       "L12.Temp    0.018473\n",
       "L13.Temp    0.026891\n",
       "L14.Temp    0.000576\n",
       "L15.Temp    0.024810\n",
       "L16.Temp    0.007403\n",
       "L17.Temp    0.009916\n",
       "L18.Temp    0.034160\n",
       "L19.Temp   -0.009120\n",
       "L20.Temp    0.024213\n",
       "L21.Temp    0.018787\n",
       "L22.Temp    0.012184\n",
       "L23.Temp   -0.018553\n",
       "L24.Temp   -0.001772\n",
       "L25.Temp    0.016732\n",
       "L26.Temp    0.019762\n",
       "L27.Temp    0.009832\n",
       "L28.Temp    0.006227\n",
       "L29.Temp   -0.001377\n",
       "dtype: float64"
      ]
     },
     "execution_count": 18,
     "metadata": {},
     "output_type": "execute_result"
    }
   ],
   "source": [
    "model_fit.params #coef of lag variables"
   ]
  },
  {
   "cell_type": "code",
   "execution_count": 19,
   "id": "eed1e3e8",
   "metadata": {},
   "outputs": [
    {
     "data": {
      "text/plain": [
       "3643    11.871275\n",
       "3644    13.053794\n",
       "3645    13.532591\n",
       "3646    13.243126\n",
       "3647    13.091438\n",
       "3648    13.146989\n",
       "3649    13.176153\n",
       "dtype: float64"
      ]
     },
     "execution_count": 19,
     "metadata": {},
     "output_type": "execute_result"
    }
   ],
   "source": [
    "predictions_ar = model_fit.predict(start = len(train), end = len(train) + len(test) - 1)\n",
    "predictions_ar"
   ]
  },
  {
   "cell_type": "code",
   "execution_count": 20,
   "id": "aecf4bb9",
   "metadata": {},
   "outputs": [
    {
     "data": {
      "text/plain": [
       "1.5015252310069296"
      ]
     },
     "execution_count": 20,
     "metadata": {},
     "output_type": "execute_result"
    }
   ],
   "source": [
    "mse_ar = mean_squared_error(predictions_ar, test)\n",
    "mse_ar"
   ]
  },
  {
   "cell_type": "code",
   "execution_count": 21,
   "id": "ee9832d7",
   "metadata": {},
   "outputs": [
    {
     "data": {
      "image/png": "[encoded data removed]",
      "text/plain": [
       "<Figure size 432x288 with 1 Axes>"
      ]
     },
     "metadata": {
      "needs_background": "light"
     },
     "output_type": "display_data"
    }
   ],
   "source": [
    "plt.plot(test_y)\n",
    "plt.plot(prediction_per, color = \"red\")\n",
    "plt.plot(predictions_ar, color = \"purple\")\n",
    "plt.legend([\"Real values\", \"Predicted values (Naive)\", \"Predicted values (AR)\"])\n",
    "plt.show()"
   ]
  },
  {
   "cell_type": "code",
   "execution_count": 23,
   "id": "67a99603",
   "metadata": {},
   "outputs": [],
   "source": [
    "train, test = df.Temp[1:df.shape[0] - 7], df.Temp[df.shape[0] - 7:]"
   ]
  },
  {
   "cell_type": "code",
   "execution_count": 27,
   "id": "188fd2fc",
   "metadata": {},
   "outputs": [
    {
     "name": "stdout",
     "output_type": "stream",
     "text": [
      "11.871274847727843\n",
      "13.660699943835212\n",
      "14.353164144090169\n",
      "13.430120791627017\n",
      "13.374756477185114\n",
      "13.479111299420522\n",
      "14.767773018439856\n"
     ]
    },
    {
     "data": {
      "text/plain": [
       "0       17.9\n",
       "1       18.8\n",
       "2       14.6\n",
       "3       15.8\n",
       "4       15.8\n",
       "        ... \n",
       "3644    14.0\n",
       "3645    13.6\n",
       "3646    13.5\n",
       "3647    15.7\n",
       "3648    13.0\n",
       "Length: 3649, dtype: float64"
      ]
     },
     "execution_count": 27,
     "metadata": {},
     "output_type": "execute_result"
    }
   ],
   "source": [
    "data = train\n",
    "predict = []\n",
    "for t in test:\n",
    "    model = AR(data)\n",
    "    model_fit = model.fit()\n",
    "    y = model_fit.predict(start = len(data), end = len(train) + len(test) - 1)\n",
    "    print(y.values[0])\n",
    "    predict.append(y.values[0])\n",
    "    data = np.append(data, t)\n",
    "    data = pd.Series(data)"
   ]
  },
  {
   "cell_type": "code",
   "execution_count": 32,
   "id": "35eb6c6e",
   "metadata": {},
   "outputs": [
    {
     "data": {
      "text/plain": [
       "1.4524568425185087"
      ]
     },
     "execution_count": 32,
     "metadata": {},
     "output_type": "execute_result"
    }
   ],
   "source": [
    "mse_walk = mean_squared_error(test.values, predict)\n",
    "mse_walk"
   ]
  },
  {
   "cell_type": "code",
   "execution_count": 31,
   "id": "e16bf945",
   "metadata": {},
   "outputs": [
    {
     "data": {
      "image/png": "[encoded data removed]",
      "text/plain": [
       "<Figure size 432x288 with 1 Axes>"
      ]
     },
     "metadata": {
      "needs_background": "light"
     },
     "output_type": "display_data"
    }
   ],
   "source": [
    "plt.plot(test_y)\n",
    "plt.plot(prediction_per, color = \"red\")\n",
    "plt.plot(predictions_ar, color = \"purple\")\n",
    "plt.plot(test.index, predict, color = \"black\")\n",
    "plt.legend([\"Real values\", \"Predicted values (Naive)\", \"Predicted values (AR)\", \"Predicted values (Walk forward)\"])\n",
    "plt.show()"
   ]
  },
  {
   "cell_type": "markdown",
   "id": "f0c6c8fe",
   "metadata": {},
   "source": [
    "## Moving average"
   ]
  },
  {
   "cell_type": "code",
   "execution_count": 44,
   "id": "e4d400a7",
   "metadata": {},
   "outputs": [
    {
     "data": {
      "text/plain": [
       "1   -2.8\n",
       "2    0.9\n",
       "3   -4.2\n",
       "4    1.2\n",
       "5    0.0\n",
       "Name: Resid, dtype: float64"
      ]
     },
     "execution_count": 44,
     "metadata": {},
     "output_type": "execute_result"
    }
   ],
   "source": [
    "df[\"Resid\"] = df.Temp - df.t\n",
    "train, test = df.Resid[1:df.shape[0] -7], df.Resid[df.shape[0] -7:]\n",
    "train.head()"
   ]
  },
  {
   "cell_type": "code",
   "execution_count": 36,
   "id": "23116c99",
   "metadata": {},
   "outputs": [
    {
     "name": "stderr",
     "output_type": "stream",
     "text": [
      "C:\\Users\\Rolando\\anaconda3\\lib\\site-packages\\statsmodels\\tsa\\ar_model.py:791: FutureWarning: \n",
      "statsmodels.tsa.AR has been deprecated in favor of statsmodels.tsa.AutoReg and\n",
      "statsmodels.tsa.SARIMAX.\n",
      "\n",
      "AutoReg adds the ability to specify exogenous variables, include time trends,\n",
      "and add seasonal dummies. The AutoReg API differs from AR since the model is\n",
      "treated as immutable, and so the entire specification including the lag\n",
      "length must be specified when creating the model. This change is too\n",
      "substantial to incorporate into the existing AR api. The function\n",
      "ar_select_order performs lag length selection for AutoReg models.\n",
      "\n",
      "AutoReg only estimates parameters using conditional MLE (OLS). Use SARIMAX to\n",
      "estimate ARX and related models using full MLE via the Kalman Filter.\n",
      "\n",
      "To silence this warning and continue using AR until it is removed, use:\n",
      "\n",
      "import warnings\n",
      "warnings.filterwarnings('ignore', 'statsmodels.tsa.ar_model.AR', FutureWarning)\n",
      "\n",
      "  warnings.warn(AR_DEPRECATION_WARN, FutureWarning)\n"
     ]
    },
    {
     "data": {
      "text/plain": [
       "29"
      ]
     },
     "execution_count": 36,
     "metadata": {},
     "output_type": "execute_result"
    }
   ],
   "source": [
    "model = AR(train)\n",
    "model_fit = model.fit()\n",
    "model_fit.k_ar"
   ]
  },
  {
   "cell_type": "code",
   "execution_count": 38,
   "id": "36255fb8",
   "metadata": {},
   "outputs": [
    {
     "data": {
      "text/plain": [
       "const       -0.006415\n",
       "L1.Resid    -0.407139\n",
       "L2.Resid    -0.496194\n",
       "L3.Resid    -0.445747\n",
       "L4.Resid    -0.403706\n",
       "L5.Resid    -0.362528\n",
       "L6.Resid    -0.334810\n",
       "L7.Resid    -0.288468\n",
       "L8.Resid    -0.274281\n",
       "L9.Resid    -0.235333\n",
       "L10.Resid   -0.234799\n",
       "L11.Resid   -0.228532\n",
       "L12.Resid   -0.208608\n",
       "L13.Resid   -0.180324\n",
       "L14.Resid   -0.178425\n",
       "L15.Resid   -0.152265\n",
       "L16.Resid   -0.143617\n",
       "L17.Resid   -0.132501\n",
       "L18.Resid   -0.097075\n",
       "L19.Resid   -0.104927\n",
       "L20.Resid   -0.079371\n",
       "L21.Resid   -0.059348\n",
       "L22.Resid   -0.045921\n",
       "L23.Resid   -0.063197\n",
       "L24.Resid   -0.063441\n",
       "L25.Resid   -0.045061\n",
       "L26.Resid   -0.023578\n",
       "L27.Resid   -0.011882\n",
       "L28.Resid   -0.003789\n",
       "L29.Resid   -0.003422\n",
       "dtype: float64"
      ]
     },
     "execution_count": 38,
     "metadata": {},
     "output_type": "execute_result"
    }
   ],
   "source": [
    "model_fit.params"
   ]
  },
  {
   "cell_type": "code",
   "execution_count": 39,
   "id": "ae96b40d",
   "metadata": {},
   "outputs": [
    {
     "data": {
      "text/plain": [
       "3643    12.004986\n",
       "3644    14.164192\n",
       "3645    15.110869\n",
       "3646    13.748313\n",
       "3647    13.477946\n",
       "3648    13.577509\n",
       "3649    15.755600\n",
       "dtype: float64"
      ]
     },
     "execution_count": 39,
     "metadata": {},
     "output_type": "execute_result"
    }
   ],
   "source": [
    "pred_resid = model_fit.predict(start = len(train), end = len(train) + len(test) - 1)\n",
    "predictions_perma = df.t[df.shape[0] - 7:] + pred_resid\n",
    "predictions_perma"
   ]
  },
  {
   "cell_type": "code",
   "execution_count": 45,
   "id": "884e9ec2",
   "metadata": {},
   "outputs": [
    {
     "data": {
      "text/plain": [
       "2.0493985566482094"
      ]
     },
     "execution_count": 45,
     "metadata": {},
     "output_type": "execute_result"
    }
   ],
   "source": [
    "mse_perma = mean_squared_error(df.Temp[df.shape[0] -7:], predictions_perma)\n",
    "mse_perma"
   ]
  },
  {
   "cell_type": "code",
   "execution_count": 46,
   "id": "d779d5b3",
   "metadata": {},
   "outputs": [
    {
     "data": {
      "image/png": "[encoded data removed]",
      "text/plain": [
       "<Figure size 432x288 with 1 Axes>"
      ]
     },
     "metadata": {
      "needs_background": "light"
     },
     "output_type": "display_data"
    }
   ],
   "source": [
    "plt.plot(test_y)\n",
    "plt.plot(prediction_per, color = \"red\")\n",
    "plt.plot(predictions_ar, color = \"purple\")\n",
    "plt.plot(test.index, predict, color = \"black\")\n",
    "plt.plot(predictions_perma, color = \"orange\")\n",
    "plt.legend([\"Real values\", \"Predicted values (Naive)\", \"Predicted values (AR)\", \"Predicted values (Walk forward)\",\n",
    "           \"Predicted value (Naives+MA)\"])\n",
    "plt.show()"
   ]
  },
  {
   "cell_type": "code",
   "execution_count": null,
   "id": "63f0d4fe",
   "metadata": {},
   "outputs": [],
   "source": []
  }
 ],
 "metadata": {
  "kernelspec": {
   "display_name": "Python 3",
   "language": "python",
   "name": "python3"
  },
  "language_info": {
   "codemirror_mode": {
    "name": "ipython",
    "version": 3
   },
   "file_extension": ".py",
   "mimetype": "text/x-python",
   "name": "python",
   "nbconvert_exporter": "python",
   "pygments_lexer": "ipython3",
   "version": "3.8.8"
  }
 },
 "nbformat": 4,
 "nbformat_minor": 5
}
