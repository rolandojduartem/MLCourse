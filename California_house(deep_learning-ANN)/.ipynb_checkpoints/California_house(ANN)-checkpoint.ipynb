{
 "cells": [
  {
   "cell_type": "markdown",
   "metadata": {},
   "source": [
    "# California price house regression using an artificial neural network\n",
    "This analysis tries to predict the prices of different houses in California dataset usin an artificial neural network"
   ]
  },
  {
   "cell_type": "code",
   "execution_count": 1,
   "metadata": {},
   "outputs": [],
   "source": [
    "import numpy as np\n",
    "import pandas as pd\n",
    "import tensorflow as tf\n",
    "from tensorflow import keras\n",
    "%matplotlib inline\n",
    "import matplotlib.pyplot as plt"
   ]
  },
  {
   "cell_type": "markdown",
   "metadata": {},
   "source": [
    "## Importing dataset"
   ]
  },
  {
   "cell_type": "code",
   "execution_count": 2,
   "metadata": {},
   "outputs": [],
   "source": [
    "from sklearn.datasets import fetch_california_housing\n",
    "housing = fetch_california_housing()"
   ]
  },
  {
   "cell_type": "code",
   "execution_count": 7,
   "metadata": {},
   "outputs": [
    {
     "data": {
      "text/plain": [
       "{'data': array([[   8.3252    ,   41.        ,    6.98412698, ...,    2.55555556,\n",
       "           37.88      , -122.23      ],\n",
       "        [   8.3014    ,   21.        ,    6.23813708, ...,    2.10984183,\n",
       "           37.86      , -122.22      ],\n",
       "        [   7.2574    ,   52.        ,    8.28813559, ...,    2.80225989,\n",
       "           37.85      , -122.24      ],\n",
       "        ...,\n",
       "        [   1.7       ,   17.        ,    5.20554273, ...,    2.3256351 ,\n",
       "           39.43      , -121.22      ],\n",
       "        [   1.8672    ,   18.        ,    5.32951289, ...,    2.12320917,\n",
       "           39.43      , -121.32      ],\n",
       "        [   2.3886    ,   16.        ,    5.25471698, ...,    2.61698113,\n",
       "           39.37      , -121.24      ]]),\n",
       " 'target': array([4.526, 3.585, 3.521, ..., 0.923, 0.847, 0.894]),\n",
       " 'frame': None,\n",
       " 'target_names': ['MedHouseVal'],\n",
       " 'feature_names': ['MedInc',\n",
       "  'HouseAge',\n",
       "  'AveRooms',\n",
       "  'AveBedrms',\n",
       "  'Population',\n",
       "  'AveOccup',\n",
       "  'Latitude',\n",
       "  'Longitude'],\n",
       " 'DESCR': '.. _california_housing_dataset:\\n\\nCalifornia Housing dataset\\n--------------------------\\n\\n**Data Set Characteristics:**\\n\\n    :Number of Instances: 20640\\n\\n    :Number of Attributes: 8 numeric, predictive attributes and the target\\n\\n    :Attribute Information:\\n        - MedInc        median income in block\\n        - HouseAge      median house age in block\\n        - AveRooms      average number of rooms\\n        - AveBedrms     average number of bedrooms\\n        - Population    block population\\n        - AveOccup      average house occupancy\\n        - Latitude      house block latitude\\n        - Longitude     house block longitude\\n\\n    :Missing Attribute Values: None\\n\\nThis dataset was obtained from the StatLib repository.\\nhttp://lib.stat.cmu.edu/datasets/\\n\\nThe target variable is the median house value for California districts.\\n\\nThis dataset was derived from the 1990 U.S. census, using one row per census\\nblock group. A block group is the smallest geographical unit for which the U.S.\\nCensus Bureau publishes sample data (a block group typically has a population\\nof 600 to 3,000 people).\\n\\nIt can be downloaded/loaded using the\\n:func:`sklearn.datasets.fetch_california_housing` function.\\n\\n.. topic:: References\\n\\n    - Pace, R. Kelley and Ronald Barry, Sparse Spatial Autoregressions,\\n      Statistics and Probability Letters, 33 (1997) 291-297\\n'}"
      ]
     },
     "execution_count": 7,
     "metadata": {},
     "output_type": "execute_result"
    }
   ],
   "source": [
    "housing"
   ]
  },
  {
   "cell_type": "markdown",
   "metadata": {},
   "source": [
    "From the last information, we can verify there are 20640 instances, 8 numeric, predictive attributes and the target"
   ]
  },
  {
   "cell_type": "markdown",
   "metadata": {},
   "source": [
    "## Splitting and standardizing Data"
   ]
  },
  {
   "cell_type": "code",
   "execution_count": 13,
   "metadata": {},
   "outputs": [],
   "source": [
    "from sklearn.model_selection import train_test_split\n",
    "x_train_full, x_test, y_train_full, y_test = train_test_split(housing.data, housing.target, random_state = 42)\n",
    "x_train, x_valid, y_train, y_valid = train_test_split(x_train_full, y_train_full, random_state = 42)"
   ]
  },
  {
   "cell_type": "code",
   "execution_count": 15,
   "metadata": {},
   "outputs": [],
   "source": [
    "from sklearn.preprocessing import StandardScaler\n",
    "scaler = StandardScaler()\n",
    "x_train = scaler.fit_transform(x_train)\n",
    "x_test = scaler.transform(x_test)\n",
    "x_valid = scaler.transform(x_valid)"
   ]
  },
  {
   "cell_type": "code",
   "execution_count": 17,
   "metadata": {},
   "outputs": [
    {
     "data": {
      "text/plain": [
       "(11610, 8)"
      ]
     },
     "execution_count": 17,
     "metadata": {},
     "output_type": "execute_result"
    }
   ],
   "source": [
    "x_train.shape"
   ]
  },
  {
   "cell_type": "raw",
   "metadata": {},
   "source": [
    "np.random.seed(42)\n",
    "tf.random.set_seed(42)"
   ]
  },
  {
   "cell_type": "markdown",
   "metadata": {},
   "source": [
    "## Creating and compiling model"
   ]
  },
  {
   "cell_type": "code",
   "execution_count": 26,
   "metadata": {},
   "outputs": [],
   "source": [
    "model = keras.models.Sequential([\n",
    "    keras.layers.Dense(30, activation = \"relu\", input_shape = x_train.shape[1:]), #Input size 8 and first layer size:30\n",
    "    keras.layers.Dense(30, activation = \"relu\"), #Second layer size: 30\n",
    "    keras.layers.Dense(1) #Output size: 1\n",
    "]) #Initializing model"
   ]
  },
  {
   "cell_type": "code",
   "execution_count": 27,
   "metadata": {},
   "outputs": [
    {
     "data": {
      "image/png": "[encoded data removed]",
      "text/plain": [
       "<IPython.core.display.Image object>"
      ]
     },
     "execution_count": 27,
     "metadata": {},
     "output_type": "execute_result"
    }
   ],
   "source": [
    "keras.utils.plot_model(model)"
   ]
  },
  {
   "cell_type": "code",
   "execution_count": 28,
   "metadata": {},
   "outputs": [],
   "source": [
    "model.compile(loss = \"mean_squared_error\",\n",
    "             optimizer = keras.optimizers.SGD(lr = 1e-3),\n",
    "             metrics = [\"mae\"])"
   ]
  },
  {
   "cell_type": "code",
   "execution_count": 35,
   "metadata": {},
   "outputs": [
    {
     "name": "stdout",
     "output_type": "stream",
     "text": [
      "Epoch 1/20\n",
      "363/363 [==============================] - 1s 1ms/step - loss: 0.3894 - mae: 0.4483 - val_loss: 0.4536 - val_mae: 0.4408\n",
      "Epoch 2/20\n",
      "363/363 [==============================] - 1s 1ms/step - loss: 0.3872 - mae: 0.4463 - val_loss: 0.4892 - val_mae: 0.4452\n",
      "Epoch 3/20\n",
      "363/363 [==============================] - 1s 1ms/step - loss: 0.3853 - mae: 0.4457 - val_loss: 0.4742 - val_mae: 0.4389\n",
      "Epoch 4/20\n",
      "363/363 [==============================] - 1s 2ms/step - loss: 0.3830 - mae: 0.4437 - val_loss: 0.4667 - val_mae: 0.4423\n",
      "Epoch 5/20\n",
      "363/363 [==============================] - 1s 2ms/step - loss: 0.3816 - mae: 0.4426 - val_loss: 0.4323 - val_mae: 0.4363\n",
      "Epoch 6/20\n",
      "363/363 [==============================] - 1s 2ms/step - loss: 0.3794 - mae: 0.4416 - val_loss: 0.4517 - val_mae: 0.4361\n",
      "Epoch 7/20\n",
      "363/363 [==============================] - 1s 2ms/step - loss: 0.3781 - mae: 0.4403 - val_loss: 0.4450 - val_mae: 0.4354\n",
      "Epoch 8/20\n",
      "363/363 [==============================] - 1s 2ms/step - loss: 0.3765 - mae: 0.4393 - val_loss: 0.4197 - val_mae: 0.4326\n",
      "Epoch 9/20\n",
      "363/363 [==============================] - 1s 2ms/step - loss: 0.3749 - mae: 0.4387 - val_loss: 0.4279 - val_mae: 0.4323\n",
      "Epoch 10/20\n",
      "363/363 [==============================] - 1s 1ms/step - loss: 0.3734 - mae: 0.4378 - val_loss: 0.4351 - val_mae: 0.4301\n",
      "Epoch 11/20\n",
      "363/363 [==============================] - 0s 1ms/step - loss: 0.3724 - mae: 0.4363 - val_loss: 0.4044 - val_mae: 0.4294\n",
      "Epoch 12/20\n",
      "363/363 [==============================] - 1s 1ms/step - loss: 0.3710 - mae: 0.4358 - val_loss: 0.4335 - val_mae: 0.4297\n",
      "Epoch 13/20\n",
      "363/363 [==============================] - 1s 1ms/step - loss: 0.3699 - mae: 0.4348 - val_loss: 0.4327 - val_mae: 0.4321\n",
      "Epoch 14/20\n",
      "363/363 [==============================] - 1s 1ms/step - loss: 0.3687 - mae: 0.4338 - val_loss: 0.4118 - val_mae: 0.4297\n",
      "Epoch 15/20\n",
      "363/363 [==============================] - 1s 1ms/step - loss: 0.3676 - mae: 0.4335 - val_loss: 0.4087 - val_mae: 0.4280\n",
      "Epoch 16/20\n",
      "363/363 [==============================] - 1s 1ms/step - loss: 0.3666 - mae: 0.4328 - val_loss: 0.3975 - val_mae: 0.4271\n",
      "Epoch 17/20\n",
      "363/363 [==============================] - 1s 1ms/step - loss: 0.3653 - mae: 0.4319 - val_loss: 0.4194 - val_mae: 0.4268\n",
      "Epoch 18/20\n",
      "363/363 [==============================] - 1s 2ms/step - loss: 0.3647 - mae: 0.4312 - val_loss: 0.4092 - val_mae: 0.4247\n",
      "Epoch 19/20\n",
      "363/363 [==============================] - 1s 1ms/step - loss: 0.3632 - mae: 0.4300 - val_loss: 0.4032 - val_mae: 0.4239\n",
      "Epoch 20/20\n",
      "363/363 [==============================] - 1s 2ms/step - loss: 0.3624 - mae: 0.4295 - val_loss: 0.4505 - val_mae: 0.4278\n"
     ]
    }
   ],
   "source": [
    "model_history = model.fit(x_train, y_train, epochs = 20, validation_data = (x_valid, y_valid))"
   ]
  },
  {
   "cell_type": "markdown",
   "metadata": {},
   "source": [
    "## Model performance"
   ]
  },
  {
   "cell_type": "code",
   "execution_count": 36,
   "metadata": {},
   "outputs": [
    {
     "name": "stdout",
     "output_type": "stream",
     "text": [
      "162/162 [==============================] - 0s 917us/step - loss: 0.3630 - mae: 0.4307\n"
     ]
    }
   ],
   "source": [
    "mae_test = model.evaluate(x_test, y_test)"
   ]
  },
  {
   "cell_type": "code",
   "execution_count": 37,
   "metadata": {},
   "outputs": [
    {
     "data": {
      "text/plain": [
       "{'loss': [0.3893730938434601,\n",
       "  0.38719499111175537,\n",
       "  0.3852682411670685,\n",
       "  0.3830026090145111,\n",
       "  0.38159120082855225,\n",
       "  0.37943801283836365,\n",
       "  0.37812933325767517,\n",
       "  0.3764858841896057,\n",
       "  0.3749067485332489,\n",
       "  0.3733694851398468,\n",
       "  0.37244099378585815,\n",
       "  0.3709791898727417,\n",
       "  0.3698503375053406,\n",
       "  0.3686806559562683,\n",
       "  0.36762362718582153,\n",
       "  0.3665948808193207,\n",
       "  0.3652607500553131,\n",
       "  0.3647005558013916,\n",
       "  0.36319971084594727,\n",
       "  0.36240020394325256],\n",
       " 'mae': [0.4482833743095398,\n",
       "  0.44631659984588623,\n",
       "  0.44572460651397705,\n",
       "  0.4437309205532074,\n",
       "  0.4426022171974182,\n",
       "  0.44158807396888733,\n",
       "  0.4403378665447235,\n",
       "  0.4392853081226349,\n",
       "  0.43872252106666565,\n",
       "  0.43780308961868286,\n",
       "  0.43629753589630127,\n",
       "  0.4357509911060333,\n",
       "  0.43475717306137085,\n",
       "  0.43383893370628357,\n",
       "  0.4334556460380554,\n",
       "  0.4328222870826721,\n",
       "  0.43188223242759705,\n",
       "  0.4311762750148773,\n",
       "  0.4300403594970703,\n",
       "  0.4295453429222107],\n",
       " 'val_loss': [0.4536118507385254,\n",
       "  0.48916515707969666,\n",
       "  0.4741799533367157,\n",
       "  0.4666540324687958,\n",
       "  0.4323357045650482,\n",
       "  0.451724112033844,\n",
       "  0.44502371549606323,\n",
       "  0.4197227954864502,\n",
       "  0.4278688132762909,\n",
       "  0.43512359261512756,\n",
       "  0.4043729901313782,\n",
       "  0.43353089690208435,\n",
       "  0.4327316880226135,\n",
       "  0.4117865264415741,\n",
       "  0.40869733691215515,\n",
       "  0.39747899770736694,\n",
       "  0.4194301962852478,\n",
       "  0.409191757440567,\n",
       "  0.40317270159721375,\n",
       "  0.45053574442863464],\n",
       " 'val_mae': [0.44083061814308167,\n",
       "  0.4452051520347595,\n",
       "  0.43892931938171387,\n",
       "  0.44231560826301575,\n",
       "  0.4363216459751129,\n",
       "  0.43610909581184387,\n",
       "  0.4353974461555481,\n",
       "  0.43260249495506287,\n",
       "  0.43227073550224304,\n",
       "  0.43009987473487854,\n",
       "  0.4293738901615143,\n",
       "  0.42966005206108093,\n",
       "  0.4320949614048004,\n",
       "  0.4296950697898865,\n",
       "  0.427980899810791,\n",
       "  0.4271453022956848,\n",
       "  0.4268076419830322,\n",
       "  0.424746572971344,\n",
       "  0.42393913865089417,\n",
       "  0.42779871821403503]}"
      ]
     },
     "execution_count": 37,
     "metadata": {},
     "output_type": "execute_result"
    }
   ],
   "source": [
    "model_history.history"
   ]
  },
  {
   "cell_type": "code",
   "execution_count": 39,
   "metadata": {},
   "outputs": [
    {
     "data": {
      "image/png": "[encoded data removed]",
      "text/plain": [
       "<Figure size 576x360 with 1 Axes>"
      ]
     },
     "metadata": {
      "needs_background": "light"
     },
     "output_type": "display_data"
    }
   ],
   "source": [
    "pd.DataFrame(model_history.history).plot(figsize = (8, 5))\n",
    "plt.grid(True)\n",
    "plt.gca().set_ylim(0, 1)\n",
    "plt.show()"
   ]
  },
  {
   "cell_type": "markdown",
   "metadata": {},
   "source": [
    "## Predicting values"
   ]
  },
  {
   "cell_type": "code",
   "execution_count": 40,
   "metadata": {},
   "outputs": [
    {
     "name": "stdout",
     "output_type": "stream",
     "text": [
      "[[0.81855047]\n",
      " [1.871609  ]\n",
      " [4.19729   ]]\n",
      "[0.477   0.458   5.00001]\n"
     ]
    }
   ],
   "source": [
    "x_new = x_test[:3]\n",
    "y_pred = model.predict(x_new)\n",
    "print(y_pred)\n",
    "print(y_test[:3])"
   ]
  },
  {
   "cell_type": "code",
   "execution_count": 41,
   "metadata": {},
   "outputs": [
    {
     "data": {
      "text/plain": [
       "0.3630181891006057"
      ]
     },
     "execution_count": 41,
     "metadata": {},
     "output_type": "execute_result"
    }
   ],
   "source": [
    "from sklearn.metrics import mean_squared_error\n",
    "mean_squared_error(y_test, model.predict(x_test))"
   ]
  },
  {
   "cell_type": "markdown",
   "metadata": {},
   "source": [
    "## Functional API"
   ]
  },
  {
   "cell_type": "code",
   "execution_count": 42,
   "metadata": {},
   "outputs": [],
   "source": [
    "del model\n",
    "keras.backend.clear_session()"
   ]
  },
  {
   "cell_type": "code",
   "execution_count": 45,
   "metadata": {},
   "outputs": [],
   "source": [
    "input_ = keras.layers.Input(shape = x_train.shape[1:])\n",
    "hidden1 = keras.layers.Dense(30, activation = \"relu\")(input_)\n",
    "hidden2 = keras.layers.Dense(30, activation = \"relu\")(hidden1)\n",
    "concat = keras.layers.concatenate([input_, hidden2])\n",
    "output = keras.layers.Dense(1)(concat)\n",
    "model = keras.models.Model(inputs = [input_], outputs = [output])"
   ]
  },
  {
   "cell_type": "code",
   "execution_count": 46,
   "metadata": {},
   "outputs": [
    {
     "name": "stdout",
     "output_type": "stream",
     "text": [
      "Model: \"model\"\n",
      "__________________________________________________________________________________________________\n",
      "Layer (type)                    Output Shape         Param #     Connected to                     \n",
      "==================================================================================================\n",
      "input_2 (InputLayer)            [(None, 8)]          0                                            \n",
      "__________________________________________________________________________________________________\n",
      "dense (Dense)                   (None, 30)           270         input_2[0][0]                    \n",
      "__________________________________________________________________________________________________\n",
      "dense_1 (Dense)                 (None, 30)           930         dense[0][0]                      \n",
      "__________________________________________________________________________________________________\n",
      "concatenate (Concatenate)       (None, 38)           0           input_2[0][0]                    \n",
      "                                                                 dense_1[0][0]                    \n",
      "__________________________________________________________________________________________________\n",
      "dense_2 (Dense)                 (None, 1)            39          concatenate[0][0]                \n",
      "==================================================================================================\n",
      "Total params: 1,239\n",
      "Trainable params: 1,239\n",
      "Non-trainable params: 0\n",
      "__________________________________________________________________________________________________\n"
     ]
    }
   ],
   "source": [
    "model.summary()"
   ]
  },
  {
   "cell_type": "code",
   "execution_count": 49,
   "metadata": {},
   "outputs": [],
   "source": [
    "model.compile(loss = \"mean_squared_error\",\n",
    "             optimizer = keras.optimizers.SGD(lr = 1e-3),\n",
    "             metrics = [\"mae\"])"
   ]
  },
  {
   "cell_type": "code",
   "execution_count": 57,
   "metadata": {},
   "outputs": [
    {
     "name": "stdout",
     "output_type": "stream",
     "text": [
      "Epoch 1/40\n",
      "363/363 [==============================] - 1s 2ms/step - loss: 0.3765 - mae: 0.4404 - val_loss: 0.3548 - val_mae: 0.4245\n",
      "Epoch 2/40\n",
      "363/363 [==============================] - 1s 2ms/step - loss: 0.3748 - mae: 0.4396 - val_loss: 0.5055 - val_mae: 0.4370\n",
      "Epoch 3/40\n",
      "363/363 [==============================] - 1s 2ms/step - loss: 0.3746 - mae: 0.4395 - val_loss: 0.3610 - val_mae: 0.4236\n",
      "Epoch 4/40\n",
      "363/363 [==============================] - 0s 1ms/step - loss: 0.3726 - mae: 0.4379 - val_loss: 0.3577 - val_mae: 0.4261\n",
      "Epoch 5/40\n",
      "363/363 [==============================] - 1s 2ms/step - loss: 0.3717 - mae: 0.4375 - val_loss: 0.3514 - val_mae: 0.4226\n",
      "Epoch 6/40\n",
      "363/363 [==============================] - 1s 2ms/step - loss: 0.3701 - mae: 0.4368 - val_loss: 0.3886 - val_mae: 0.4241\n",
      "Epoch 7/40\n",
      "363/363 [==============================] - 1s 2ms/step - loss: 0.3696 - mae: 0.4356 - val_loss: 0.3595 - val_mae: 0.4230\n",
      "Epoch 8/40\n",
      "363/363 [==============================] - 1s 2ms/step - loss: 0.3683 - mae: 0.4352 - val_loss: 0.3474 - val_mae: 0.4195\n",
      "Epoch 9/40\n",
      "363/363 [==============================] - 1s 3ms/step - loss: 0.3671 - mae: 0.4346 - val_loss: 0.3924 - val_mae: 0.4218\n",
      "Epoch 10/40\n",
      "363/363 [==============================] - 1s 2ms/step - loss: 0.3666 - mae: 0.4337 - val_loss: 0.3675 - val_mae: 0.4200\n",
      "Epoch 11/40\n",
      "363/363 [==============================] - 1s 2ms/step - loss: 0.3659 - mae: 0.4329 - val_loss: 0.4043 - val_mae: 0.4213\n",
      "Epoch 12/40\n",
      "363/363 [==============================] - 1s 1ms/step - loss: 0.3649 - mae: 0.4330 - val_loss: 0.6704 - val_mae: 0.4307\n",
      "Epoch 13/40\n",
      "363/363 [==============================] - 1s 2ms/step - loss: 0.3672 - mae: 0.4320 - val_loss: 0.3866 - val_mae: 0.4243\n",
      "Epoch 14/40\n",
      "363/363 [==============================] - 1s 2ms/step - loss: 0.3630 - mae: 0.4314 - val_loss: 0.3742 - val_mae: 0.4218\n",
      "Epoch 15/40\n",
      "363/363 [==============================] - 1s 2ms/step - loss: 0.3619 - mae: 0.4308 - val_loss: 0.3673 - val_mae: 0.4202\n",
      "Epoch 16/40\n",
      "363/363 [==============================] - 1s 1ms/step - loss: 0.3617 - mae: 0.4302 - val_loss: 0.3904 - val_mae: 0.4219\n",
      "Epoch 17/40\n",
      "363/363 [==============================] - 1s 1ms/step - loss: 0.3608 - mae: 0.4305 - val_loss: 0.5235 - val_mae: 0.4257\n",
      "Epoch 18/40\n",
      "363/363 [==============================] - 1s 2ms/step - loss: 0.3609 - mae: 0.4287 - val_loss: 0.3452 - val_mae: 0.4149\n",
      "Epoch 19/40\n",
      "363/363 [==============================] - 1s 2ms/step - loss: 0.3585 - mae: 0.4283 - val_loss: 0.3581 - val_mae: 0.4158\n",
      "Epoch 20/40\n",
      "363/363 [==============================] - 1s 1ms/step - loss: 0.3578 - mae: 0.4276 - val_loss: 0.4509 - val_mae: 0.4219\n",
      "Epoch 21/40\n",
      "363/363 [==============================] - 1s 2ms/step - loss: 0.3579 - mae: 0.4271 - val_loss: 0.3498 - val_mae: 0.4183\n",
      "Epoch 22/40\n",
      "363/363 [==============================] - 1s 2ms/step - loss: 0.3561 - mae: 0.4271 - val_loss: 0.5824 - val_mae: 0.4283\n",
      "Epoch 23/40\n",
      "363/363 [==============================] - 1s 1ms/step - loss: 0.3567 - mae: 0.4267 - val_loss: 0.8698 - val_mae: 0.4281\n",
      "Epoch 24/40\n",
      "363/363 [==============================] - 1s 2ms/step - loss: 0.3563 - mae: 0.4261 - val_loss: 0.6634 - val_mae: 0.4266\n",
      "Epoch 25/40\n",
      "363/363 [==============================] - 1s 2ms/step - loss: 0.3569 - mae: 0.4253 - val_loss: 0.3358 - val_mae: 0.4126\n",
      "Epoch 26/40\n",
      "363/363 [==============================] - 1s 1ms/step - loss: 0.3534 - mae: 0.4252 - val_loss: 0.6013 - val_mae: 0.4241\n",
      "Epoch 27/40\n",
      "363/363 [==============================] - 1s 2ms/step - loss: 0.3546 - mae: 0.4246 - val_loss: 0.8886 - val_mae: 0.4273\n",
      "Epoch 28/40\n",
      "363/363 [==============================] - 1s 1ms/step - loss: 0.3545 - mae: 0.4251 - val_loss: 0.7303 - val_mae: 0.4285\n",
      "Epoch 29/40\n",
      "363/363 [==============================] - 1s 2ms/step - loss: 0.3547 - mae: 0.4236 - val_loss: 0.4283 - val_mae: 0.4189\n",
      "Epoch 30/40\n",
      "363/363 [==============================] - 1s 1ms/step - loss: 0.3523 - mae: 0.4242 - val_loss: 0.7222 - val_mae: 0.4255\n",
      "Epoch 31/40\n",
      "363/363 [==============================] - 1s 2ms/step - loss: 0.3560 - mae: 0.4233 - val_loss: 0.4866 - val_mae: 0.4197\n",
      "Epoch 32/40\n",
      "363/363 [==============================] - 1s 1ms/step - loss: 0.3518 - mae: 0.4237 - val_loss: 0.8176 - val_mae: 0.4298\n",
      "Epoch 33/40\n",
      "363/363 [==============================] - 1s 2ms/step - loss: 0.3528 - mae: 0.4220 - val_loss: 0.5794 - val_mae: 0.4223\n",
      "Epoch 34/40\n",
      "363/363 [==============================] - 1s 1ms/step - loss: 0.3496 - mae: 0.4223 - val_loss: 0.4713 - val_mae: 0.4195\n",
      "Epoch 35/40\n",
      "363/363 [==============================] - 1s 1ms/step - loss: 0.3490 - mae: 0.4210 - val_loss: 0.3424 - val_mae: 0.4135\n",
      "Epoch 36/40\n",
      "363/363 [==============================] - 1s 2ms/step - loss: 0.3478 - mae: 0.4209 - val_loss: 0.3410 - val_mae: 0.4088\n",
      "Epoch 37/40\n",
      "363/363 [==============================] - 1s 1ms/step - loss: 0.3474 - mae: 0.4200 - val_loss: 0.3564 - val_mae: 0.4126\n",
      "Epoch 38/40\n",
      "363/363 [==============================] - 1s 2ms/step - loss: 0.3467 - mae: 0.4197 - val_loss: 0.3362 - val_mae: 0.4096\n",
      "Epoch 39/40\n",
      "363/363 [==============================] - 1s 2ms/step - loss: 0.3460 - mae: 0.4196 - val_loss: 0.3334 - val_mae: 0.4085\n",
      "Epoch 40/40\n",
      "363/363 [==============================] - 1s 2ms/step - loss: 0.3456 - mae: 0.4191 - val_loss: 0.3302 - val_mae: 0.4060\n"
     ]
    }
   ],
   "source": [
    "model_history = model.fit(x_train, y_train, epochs = 40, validation_data = (x_valid, y_valid))"
   ]
  },
  {
   "cell_type": "code",
   "execution_count": 58,
   "metadata": {},
   "outputs": [
    {
     "name": "stdout",
     "output_type": "stream",
     "text": [
      "162/162 [==============================] - 0s 925us/step - loss: 0.3503 - mae: 0.4183\n"
     ]
    }
   ],
   "source": [
    "mae_test = model.evaluate(x_test, y_test)"
   ]
  },
  {
   "cell_type": "code",
   "execution_count": 59,
   "metadata": {},
   "outputs": [
    {
     "data": {
      "text/plain": [
       "{'loss': [0.3764719069004059,\n",
       "  0.37482523918151855,\n",
       "  0.3746287226676941,\n",
       "  0.372616708278656,\n",
       "  0.3716835677623749,\n",
       "  0.37014150619506836,\n",
       "  0.3696090281009674,\n",
       "  0.3683375120162964,\n",
       "  0.3671337962150574,\n",
       "  0.36660662293434143,\n",
       "  0.36586111783981323,\n",
       "  0.36492612957954407,\n",
       "  0.3671778738498688,\n",
       "  0.36300960183143616,\n",
       "  0.3618694841861725,\n",
       "  0.3617193400859833,\n",
       "  0.36080530285835266,\n",
       "  0.3609005808830261,\n",
       "  0.3585493266582489,\n",
       "  0.3577767610549927,\n",
       "  0.3578808903694153,\n",
       "  0.35609814524650574,\n",
       "  0.35666540265083313,\n",
       "  0.35632532835006714,\n",
       "  0.3569159209728241,\n",
       "  0.3534046709537506,\n",
       "  0.3545861840248108,\n",
       "  0.3544902801513672,\n",
       "  0.35471832752227783,\n",
       "  0.35232973098754883,\n",
       "  0.35596174001693726,\n",
       "  0.3518190383911133,\n",
       "  0.352789044380188,\n",
       "  0.34963473677635193,\n",
       "  0.3490397036075592,\n",
       "  0.34782201051712036,\n",
       "  0.3473661243915558,\n",
       "  0.34670209884643555,\n",
       "  0.3460346460342407,\n",
       "  0.3455779552459717],\n",
       " 'mae': [0.4403986632823944,\n",
       "  0.4396207630634308,\n",
       "  0.43945759534835815,\n",
       "  0.43792566657066345,\n",
       "  0.43748772144317627,\n",
       "  0.4367615282535553,\n",
       "  0.43559911847114563,\n",
       "  0.43520689010620117,\n",
       "  0.4346485435962677,\n",
       "  0.4337462782859802,\n",
       "  0.43293917179107666,\n",
       "  0.43304571509361267,\n",
       "  0.4319527745246887,\n",
       "  0.43142521381378174,\n",
       "  0.4307764768600464,\n",
       "  0.4301769733428955,\n",
       "  0.4305008053779602,\n",
       "  0.4287163317203522,\n",
       "  0.42830368876457214,\n",
       "  0.4276382029056549,\n",
       "  0.4270593523979187,\n",
       "  0.4271184206008911,\n",
       "  0.4267171025276184,\n",
       "  0.4261443316936493,\n",
       "  0.425343781709671,\n",
       "  0.4251943528652191,\n",
       "  0.4246020019054413,\n",
       "  0.4251193106174469,\n",
       "  0.4235926866531372,\n",
       "  0.4242272973060608,\n",
       "  0.42332231998443604,\n",
       "  0.4237152934074402,\n",
       "  0.4219881296157837,\n",
       "  0.4223126769065857,\n",
       "  0.4209837317466736,\n",
       "  0.4208764135837555,\n",
       "  0.4199729859828949,\n",
       "  0.4197264015674591,\n",
       "  0.4196256399154663,\n",
       "  0.41910719871520996],\n",
       " 'val_loss': [0.35480016469955444,\n",
       "  0.5054898858070374,\n",
       "  0.3609691560268402,\n",
       "  0.3576514720916748,\n",
       "  0.35141289234161377,\n",
       "  0.38860705494880676,\n",
       "  0.35950419306755066,\n",
       "  0.3474207818508148,\n",
       "  0.3924176096916199,\n",
       "  0.36746853590011597,\n",
       "  0.404272198677063,\n",
       "  0.6703583002090454,\n",
       "  0.38661861419677734,\n",
       "  0.37422123551368713,\n",
       "  0.367281436920166,\n",
       "  0.39037245512008667,\n",
       "  0.5234991908073425,\n",
       "  0.34517449140548706,\n",
       "  0.3581320345401764,\n",
       "  0.4509289264678955,\n",
       "  0.3497546911239624,\n",
       "  0.5823863744735718,\n",
       "  0.8697620630264282,\n",
       "  0.6633855700492859,\n",
       "  0.3357563018798828,\n",
       "  0.6012753844261169,\n",
       "  0.8885858654975891,\n",
       "  0.73028165102005,\n",
       "  0.42829227447509766,\n",
       "  0.7222381234169006,\n",
       "  0.4866357147693634,\n",
       "  0.8176292181015015,\n",
       "  0.5794183015823364,\n",
       "  0.4712897837162018,\n",
       "  0.34243249893188477,\n",
       "  0.34104683995246887,\n",
       "  0.3564057946205139,\n",
       "  0.33622410893440247,\n",
       "  0.33344507217407227,\n",
       "  0.33017709851264954],\n",
       " 'val_mae': [0.42452672123908997,\n",
       "  0.43699371814727783,\n",
       "  0.4236137866973877,\n",
       "  0.42607519030570984,\n",
       "  0.4226248562335968,\n",
       "  0.4241411089897156,\n",
       "  0.4229552745819092,\n",
       "  0.4194605350494385,\n",
       "  0.4217751622200012,\n",
       "  0.4200173616409302,\n",
       "  0.42130494117736816,\n",
       "  0.43067821860313416,\n",
       "  0.4243133068084717,\n",
       "  0.4218043088912964,\n",
       "  0.42020219564437866,\n",
       "  0.4219323992729187,\n",
       "  0.4257485568523407,\n",
       "  0.4148525893688202,\n",
       "  0.41579094529151917,\n",
       "  0.42191529273986816,\n",
       "  0.41832661628723145,\n",
       "  0.42826491594314575,\n",
       "  0.4281180500984192,\n",
       "  0.42661887407302856,\n",
       "  0.4125683307647705,\n",
       "  0.4241238236427307,\n",
       "  0.4273470938205719,\n",
       "  0.42853865027427673,\n",
       "  0.4189103841781616,\n",
       "  0.4254741072654724,\n",
       "  0.41973984241485596,\n",
       "  0.42976292967796326,\n",
       "  0.42232072353363037,\n",
       "  0.41949304938316345,\n",
       "  0.4134880006313324,\n",
       "  0.4087647795677185,\n",
       "  0.4126283526420593,\n",
       "  0.4096035957336426,\n",
       "  0.408457487821579,\n",
       "  0.4060419499874115]}"
      ]
     },
     "execution_count": 59,
     "metadata": {},
     "output_type": "execute_result"
    }
   ],
   "source": [
    "model_history.history"
   ]
  },
  {
   "cell_type": "code",
   "execution_count": 60,
   "metadata": {},
   "outputs": [
    {
     "data": {
      "image/png": "[encoded data removed]",
      "text/plain": [
       "<Figure size 576x360 with 1 Axes>"
      ]
     },
     "metadata": {
      "needs_background": "light"
     },
     "output_type": "display_data"
    }
   ],
   "source": [
    "pd.DataFrame(model_history.history).plot(figsize = (8, 5))\n",
    "plt.grid(True)\n",
    "plt.gca().set_ylim(0,1)\n",
    "plt.show()"
   ]
  },
  {
   "cell_type": "markdown",
   "metadata": {},
   "source": [
    "This model doesn't perform well"
   ]
  },
  {
   "cell_type": "markdown",
   "metadata": {},
   "source": [
    "## Saving and Restoring model"
   ]
  },
  {
   "cell_type": "code",
   "execution_count": 62,
   "metadata": {},
   "outputs": [],
   "source": [
    "model.save(\"my_first_model.h5\") #Save model"
   ]
  },
  {
   "cell_type": "code",
   "execution_count": 63,
   "metadata": {},
   "outputs": [],
   "source": [
    "del model"
   ]
  },
  {
   "cell_type": "code",
   "execution_count": 64,
   "metadata": {},
   "outputs": [],
   "source": [
    "keras.backend.clear_session()"
   ]
  },
  {
   "cell_type": "code",
   "execution_count": 65,
   "metadata": {},
   "outputs": [],
   "source": [
    "model = keras.models.load_model(\"my_first_model.h5\")"
   ]
  },
  {
   "cell_type": "code",
   "execution_count": 66,
   "metadata": {},
   "outputs": [
    {
     "name": "stdout",
     "output_type": "stream",
     "text": [
      "Model: \"model\"\n",
      "__________________________________________________________________________________________________\n",
      "Layer (type)                    Output Shape         Param #     Connected to                     \n",
      "==================================================================================================\n",
      "input_2 (InputLayer)            [(None, 8)]          0                                            \n",
      "__________________________________________________________________________________________________\n",
      "dense (Dense)                   (None, 30)           270         input_2[0][0]                    \n",
      "__________________________________________________________________________________________________\n",
      "dense_1 (Dense)                 (None, 30)           930         dense[0][0]                      \n",
      "__________________________________________________________________________________________________\n",
      "concatenate (Concatenate)       (None, 38)           0           input_2[0][0]                    \n",
      "                                                                 dense_1[0][0]                    \n",
      "__________________________________________________________________________________________________\n",
      "dense_2 (Dense)                 (None, 1)            39          concatenate[0][0]                \n",
      "==================================================================================================\n",
      "Total params: 1,239\n",
      "Trainable params: 1,239\n",
      "Non-trainable params: 0\n",
      "__________________________________________________________________________________________________\n"
     ]
    }
   ],
   "source": [
    "model.summary()"
   ]
  },
  {
   "cell_type": "code",
   "execution_count": 67,
   "metadata": {},
   "outputs": [
    {
     "data": {
      "text/plain": [
       "array([[0.7163942],\n",
       "       [1.571806 ],\n",
       "       [4.145753 ]], dtype=float32)"
      ]
     },
     "execution_count": 67,
     "metadata": {},
     "output_type": "execute_result"
    }
   ],
   "source": [
    "y_pred = model.predict(x_new)\n",
    "y_pred"
   ]
  },
  {
   "cell_type": "markdown",
   "metadata": {},
   "source": [
    "## Using callbacks during training "
   ]
  },
  {
   "cell_type": "code",
   "execution_count": 68,
   "metadata": {},
   "outputs": [],
   "source": [
    "keras.backend.clear_session()\n",
    "np.random.seed(42)\n",
    "tf.random.set_seed(42)"
   ]
  },
  {
   "cell_type": "code",
   "execution_count": 70,
   "metadata": {},
   "outputs": [],
   "source": [
    "model = keras.models.Sequential([\n",
    "    keras.layers.Dense(30, activation = \"relu\", input_shape = [8]),\n",
    "    keras.layers.Dense(30, activation = \"relu\"),\n",
    "    keras.layers.Dense(1)\n",
    "])"
   ]
  },
  {
   "cell_type": "code",
   "execution_count": 71,
   "metadata": {},
   "outputs": [
    {
     "name": "stdout",
     "output_type": "stream",
     "text": [
      "Model: \"sequential\"\n",
      "_________________________________________________________________\n",
      "Layer (type)                 Output Shape              Param #   \n",
      "=================================================================\n",
      "dense (Dense)                (None, 30)                270       \n",
      "_________________________________________________________________\n",
      "dense_1 (Dense)              (None, 30)                930       \n",
      "_________________________________________________________________\n",
      "dense_2 (Dense)              (None, 1)                 31        \n",
      "=================================================================\n",
      "Total params: 1,231\n",
      "Trainable params: 1,231\n",
      "Non-trainable params: 0\n",
      "_________________________________________________________________\n"
     ]
    }
   ],
   "source": [
    "model.summary()"
   ]
  },
  {
   "cell_type": "code",
   "execution_count": 72,
   "metadata": {},
   "outputs": [],
   "source": [
    "model.compile(loss = \"mean_squared_error\",\n",
    "             optimizer = keras.optimizers.SGD(lr = 1e-3), metrics = [\"mae\"])"
   ]
  },
  {
   "cell_type": "code",
   "execution_count": 73,
   "metadata": {},
   "outputs": [],
   "source": [
    "checkpoint_cb = keras.callbacks.ModelCheckpoint(\"Model-{epoch:02d}.h5\")"
   ]
  },
  {
   "cell_type": "code",
   "execution_count": 75,
   "metadata": {},
   "outputs": [
    {
     "name": "stdout",
     "output_type": "stream",
     "text": [
      "Epoch 1/10\n",
      "363/363 [==============================] - 1s 1ms/step - loss: 0.4393 - mae: 0.4746 - val_loss: 0.4110 - val_mae: 0.4570\n",
      "Epoch 2/10\n",
      "363/363 [==============================] - 1s 1ms/step - loss: 0.4315 - mae: 0.4698 - val_loss: 0.4266 - val_mae: 0.4603\n",
      "Epoch 3/10\n",
      "363/363 [==============================] - 0s 1ms/step - loss: 0.4259 - mae: 0.4676 - val_loss: 0.3996 - val_mae: 0.4493\n",
      "Epoch 4/10\n",
      "363/363 [==============================] - 1s 1ms/step - loss: 0.4201 - mae: 0.4639 - val_loss: 0.3939 - val_mae: 0.4503\n",
      "Epoch 5/10\n",
      "363/363 [==============================] - 1s 1ms/step - loss: 0.4154 - mae: 0.4610 - val_loss: 0.3889 - val_mae: 0.4453\n",
      "Epoch 6/10\n",
      "363/363 [==============================] - 0s 1ms/step - loss: 0.4111 - mae: 0.4589 - val_loss: 0.3866 - val_mae: 0.4422\n",
      "Epoch 7/10\n",
      "363/363 [==============================] - 1s 1ms/step - loss: 0.4074 - mae: 0.4565 - val_loss: 0.3860 - val_mae: 0.4410\n",
      "Epoch 8/10\n",
      "363/363 [==============================] - 1s 2ms/step - loss: 0.4040 - mae: 0.4544 - val_loss: 0.3793 - val_mae: 0.4379\n",
      "Epoch 9/10\n",
      "363/363 [==============================] - 1s 1ms/step - loss: 0.4008 - mae: 0.4527 - val_loss: 0.3746 - val_mae: 0.4348\n",
      "Epoch 10/10\n",
      "363/363 [==============================] - 1s 2ms/step - loss: 0.3976 - mae: 0.4507 - val_loss: 0.3723 - val_mae: 0.4325\n"
     ]
    },
    {
     "data": {
      "text/plain": [
       "<tensorflow.python.keras.callbacks.History at 0x2d945763cd0>"
      ]
     },
     "execution_count": 75,
     "metadata": {},
     "output_type": "execute_result"
    }
   ],
   "source": [
    "model.fit(x_train, y_train, epochs = 10, \n",
    "          validation_data = (x_valid, y_valid), callbacks = [checkpoint_cb])"
   ]
  },
  {
   "cell_type": "code",
   "execution_count": 76,
   "metadata": {},
   "outputs": [],
   "source": [
    "del model\n",
    "keras.backend.clear_session()"
   ]
  },
  {
   "cell_type": "code",
   "execution_count": 77,
   "metadata": {},
   "outputs": [],
   "source": [
    "model = keras.models.load_model(\"Model-10.h5\")"
   ]
  },
  {
   "cell_type": "code",
   "execution_count": 78,
   "metadata": {},
   "outputs": [
    {
     "name": "stdout",
     "output_type": "stream",
     "text": [
      "162/162 [==============================] - 0s 966us/step - loss: 0.3951 - mae: 0.4477\n"
     ]
    }
   ],
   "source": [
    "mse_test = model.evaluate(x_test, y_test)"
   ]
  },
  {
   "cell_type": "code",
   "execution_count": 79,
   "metadata": {},
   "outputs": [],
   "source": [
    "del model\n",
    "keras.backend.clear_session()"
   ]
  },
  {
   "cell_type": "markdown",
   "metadata": {},
   "source": [
    "## Best model only"
   ]
  },
  {
   "cell_type": "code",
   "execution_count": 83,
   "metadata": {},
   "outputs": [],
   "source": [
    "model = keras.models.Sequential([\n",
    "    keras.layers.Dense(30, activation = \"relu\", input_shape = x_train.shape[1:]),\n",
    "    keras.layers.Dense(30, activation = \"relu\"),\n",
    "    keras.layers.Dense(1)\n",
    "])"
   ]
  },
  {
   "cell_type": "code",
   "execution_count": 89,
   "metadata": {},
   "outputs": [],
   "source": [
    "model.compile(loss = \"mean_squared_error\",\n",
    "             optimizer = keras.optimizers.SGD(lr = 1e-3),\n",
    "             metrics = [\"mae\"])"
   ]
  },
  {
   "cell_type": "code",
   "execution_count": 90,
   "metadata": {},
   "outputs": [],
   "source": [
    "checkpoint_cb = keras.callbacks.ModelCheckpoint(\"Best_model.h5\", save_best_only = True)"
   ]
  },
  {
   "cell_type": "code",
   "execution_count": 91,
   "metadata": {},
   "outputs": [
    {
     "name": "stdout",
     "output_type": "stream",
     "text": [
      "Epoch 1/40\n",
      "363/363 [==============================] - 1s 2ms/step - loss: 3.4726 - mae: 1.4440 - val_loss: 1.4007 - val_mae: 0.7047\n",
      "Epoch 2/40\n",
      "363/363 [==============================] - 1s 1ms/step - loss: 0.8430 - mae: 0.6907 - val_loss: 1.3632 - val_mae: 0.6278\n",
      "Epoch 3/40\n",
      "363/363 [==============================] - 1s 2ms/step - loss: 0.7195 - mae: 0.6234 - val_loss: 0.8402 - val_mae: 0.5747\n",
      "Epoch 4/40\n",
      "363/363 [==============================] - 1s 2ms/step - loss: 0.6417 - mae: 0.5807 - val_loss: 0.5897 - val_mae: 0.5467\n",
      "Epoch 5/40\n",
      "363/363 [==============================] - 1s 2ms/step - loss: 0.5714 - mae: 0.5515 - val_loss: 0.5373 - val_mae: 0.5229\n",
      "Epoch 6/40\n",
      "363/363 [==============================] - 1s 1ms/step - loss: 0.5392 - mae: 0.5324 - val_loss: 0.5175 - val_mae: 0.5015\n",
      "Epoch 7/40\n",
      "363/363 [==============================] - 1s 1ms/step - loss: 0.5216 - mae: 0.5178 - val_loss: 0.4717 - val_mae: 0.4857\n",
      "Epoch 8/40\n",
      "363/363 [==============================] - 1s 1ms/step - loss: 0.4788 - mae: 0.5008 - val_loss: 0.4582 - val_mae: 0.4763\n",
      "Epoch 9/40\n",
      "363/363 [==============================] - 1s 1ms/step - loss: 0.4631 - mae: 0.4933 - val_loss: 0.4201 - val_mae: 0.4638\n",
      "Epoch 10/40\n",
      "363/363 [==============================] - 1s 2ms/step - loss: 0.4452 - mae: 0.4829 - val_loss: 0.4036 - val_mae: 0.4568\n",
      "Epoch 11/40\n",
      "363/363 [==============================] - 1s 2ms/step - loss: 0.4308 - mae: 0.4739 - val_loss: 0.4122 - val_mae: 0.4594\n",
      "Epoch 12/40\n",
      "363/363 [==============================] - 1s 1ms/step - loss: 0.4227 - mae: 0.4705 - val_loss: 0.3872 - val_mae: 0.4478\n",
      "Epoch 13/40\n",
      "363/363 [==============================] - 1s 2ms/step - loss: 0.4202 - mae: 0.4654 - val_loss: 0.3814 - val_mae: 0.4472\n",
      "Epoch 14/40\n",
      "363/363 [==============================] - 1s 2ms/step - loss: 0.4097 - mae: 0.4625 - val_loss: 0.3763 - val_mae: 0.4443\n",
      "Epoch 15/40\n",
      "363/363 [==============================] - 1s 2ms/step - loss: 0.4109 - mae: 0.4558 - val_loss: 0.3785 - val_mae: 0.4427\n",
      "Epoch 16/40\n",
      "363/363 [==============================] - 1s 1ms/step - loss: 0.4126 - mae: 0.4596 - val_loss: 0.3682 - val_mae: 0.4394\n",
      "Epoch 17/40\n",
      "363/363 [==============================] - 1s 1ms/step - loss: 0.3967 - mae: 0.4534 - val_loss: 0.3984 - val_mae: 0.4399\n",
      "Epoch 18/40\n",
      "363/363 [==============================] - 1s 1ms/step - loss: 0.3958 - mae: 0.4547 - val_loss: 0.3625 - val_mae: 0.4335\n",
      "Epoch 19/40\n",
      "363/363 [==============================] - 1s 1ms/step - loss: 0.3811 - mae: 0.4457 - val_loss: 0.3610 - val_mae: 0.4318\n",
      "Epoch 20/40\n",
      "363/363 [==============================] - 1s 2ms/step - loss: 0.3715 - mae: 0.4382 - val_loss: 0.4561 - val_mae: 0.4408\n",
      "Epoch 21/40\n",
      "363/363 [==============================] - 0s 1ms/step - loss: 0.3887 - mae: 0.4470 - val_loss: 0.3632 - val_mae: 0.4354\n",
      "Epoch 22/40\n",
      "363/363 [==============================] - 1s 1ms/step - loss: 0.3747 - mae: 0.4407 - val_loss: 0.4075 - val_mae: 0.4390\n",
      "Epoch 23/40\n",
      "363/363 [==============================] - 1s 1ms/step - loss: 0.3963 - mae: 0.4523 - val_loss: 0.4608 - val_mae: 0.4315\n",
      "Epoch 24/40\n",
      "363/363 [==============================] - 1s 1ms/step - loss: 0.3760 - mae: 0.4392 - val_loss: 0.3983 - val_mae: 0.4318\n",
      "Epoch 25/40\n",
      "363/363 [==============================] - 0s 1ms/step - loss: 0.3745 - mae: 0.4403 - val_loss: 0.3820 - val_mae: 0.4305\n",
      "Epoch 26/40\n",
      "363/363 [==============================] - 1s 1ms/step - loss: 0.3748 - mae: 0.4384 - val_loss: 0.3785 - val_mae: 0.4299\n",
      "Epoch 27/40\n",
      "363/363 [==============================] - 0s 1ms/step - loss: 0.3806 - mae: 0.4402 - val_loss: 0.4521 - val_mae: 0.4294\n",
      "Epoch 28/40\n",
      "363/363 [==============================] - 1s 1ms/step - loss: 0.3841 - mae: 0.4435 - val_loss: 0.3948 - val_mae: 0.4324\n",
      "Epoch 29/40\n",
      "363/363 [==============================] - 1s 1ms/step - loss: 0.3696 - mae: 0.4376 - val_loss: 0.3700 - val_mae: 0.4278\n",
      "Epoch 30/40\n",
      "363/363 [==============================] - 1s 1ms/step - loss: 0.3787 - mae: 0.4409 - val_loss: 0.5012 - val_mae: 0.4338\n",
      "Epoch 31/40\n",
      "363/363 [==============================] - 1s 2ms/step - loss: 0.3715 - mae: 0.4355 - val_loss: 0.3511 - val_mae: 0.4231\n",
      "Epoch 32/40\n",
      "363/363 [==============================] - 1s 2ms/step - loss: 0.3666 - mae: 0.4383 - val_loss: 0.4634 - val_mae: 0.4340\n",
      "Epoch 33/40\n",
      "363/363 [==============================] - 1s 1ms/step - loss: 0.3678 - mae: 0.4366 - val_loss: 0.4608 - val_mae: 0.4300\n",
      "Epoch 34/40\n",
      "363/363 [==============================] - 1s 1ms/step - loss: 0.3597 - mae: 0.4295 - val_loss: 0.3457 - val_mae: 0.4228\n",
      "Epoch 35/40\n",
      "363/363 [==============================] - 1s 2ms/step - loss: 0.3547 - mae: 0.4270 - val_loss: 0.4154 - val_mae: 0.4296\n",
      "Epoch 36/40\n",
      "363/363 [==============================] - 1s 2ms/step - loss: 0.3522 - mae: 0.4263 - val_loss: 0.4738 - val_mae: 0.4245\n",
      "Epoch 37/40\n",
      "363/363 [==============================] - 0s 1ms/step - loss: 0.3859 - mae: 0.4382 - val_loss: 0.3919 - val_mae: 0.4263\n",
      "Epoch 38/40\n",
      "363/363 [==============================] - 1s 1ms/step - loss: 0.3576 - mae: 0.4251 - val_loss: 0.3417 - val_mae: 0.4192\n",
      "Epoch 39/40\n",
      "363/363 [==============================] - 1s 1ms/step - loss: 0.3767 - mae: 0.4360 - val_loss: 0.3373 - val_mae: 0.4168\n",
      "Epoch 40/40\n",
      "363/363 [==============================] - 1s 2ms/step - loss: 0.3547 - mae: 0.4236 - val_loss: 0.3542 - val_mae: 0.4176\n"
     ]
    }
   ],
   "source": [
    "history = model.fit(x_train, y_train, epochs = 40, validation_data = (x_valid, y_valid),\n",
    "                   callbacks = [checkpoint_cb])"
   ]
  },
  {
   "cell_type": "code",
   "execution_count": 93,
   "metadata": {},
   "outputs": [
    {
     "name": "stdout",
     "output_type": "stream",
     "text": [
      "162/162 [==============================] - 0s 1ms/step - loss: 0.3650 - mae: 0.4303\n"
     ]
    }
   ],
   "source": [
    "model = keras.models.load_model(\"Best_model.h5\")\n",
    "mse_test = model.evaluate(x_test, y_test)"
   ]
  },
  {
   "cell_type": "code",
   "execution_count": 94,
   "metadata": {},
   "outputs": [],
   "source": [
    "del model\n",
    "keras.backend.clear_session()"
   ]
  },
  {
   "cell_type": "markdown",
   "metadata": {},
   "source": [
    "## Early stop model"
   ]
  },
  {
   "cell_type": "code",
   "execution_count": 95,
   "metadata": {},
   "outputs": [],
   "source": [
    "np.random.seed(42)\n",
    "tf.random.set_seed(42)"
   ]
  },
  {
   "cell_type": "code",
   "execution_count": 96,
   "metadata": {},
   "outputs": [],
   "source": [
    "model = keras.models.Sequential([\n",
    "    keras.layers.Dense(30, activation = \"relu\", input_shape = [8]),\n",
    "    keras.layers.Dense(30, activation = \"relu\"),\n",
    "    keras.layers.Dense(1)\n",
    "])"
   ]
  },
  {
   "cell_type": "code",
   "execution_count": 97,
   "metadata": {},
   "outputs": [],
   "source": [
    "model.compile(loss = \"mean_squared_error\",\n",
    "             optimizer = keras.optimizers.SGD(lr = 1e-3),\n",
    "             metrics = [\"mae\"])"
   ]
  },
  {
   "cell_type": "code",
   "execution_count": 98,
   "metadata": {},
   "outputs": [],
   "source": [
    "checkpoint_cb = keras.callbacks.ModelCheckpoint(\"early_stop_model.h5\", save_best_only = True)"
   ]
  },
  {
   "cell_type": "code",
   "execution_count": 101,
   "metadata": {},
   "outputs": [],
   "source": [
    "early_stopping_cb = keras.callbacks.EarlyStopping(patience = 10, #number of epochs with no improvement after training stopped\n",
    "                                                 restore_best_weights = True)"
   ]
  },
  {
   "cell_type": "code",
   "execution_count": 102,
   "metadata": {},
   "outputs": [
    {
     "name": "stdout",
     "output_type": "stream",
     "text": [
      "Epoch 1/200\n",
      "363/363 [==============================] - 1s 2ms/step - loss: 3.3697 - mae: 1.4280 - val_loss: 0.7126 - val_mae: 0.6368\n",
      "Epoch 2/200\n",
      "363/363 [==============================] - 1s 1ms/step - loss: 0.6964 - mae: 0.6267 - val_loss: 0.6880 - val_mae: 0.5704\n",
      "Epoch 3/200\n",
      "363/363 [==============================] - 1s 2ms/step - loss: 0.6167 - mae: 0.5701 - val_loss: 0.5803 - val_mae: 0.5352\n",
      "Epoch 4/200\n",
      "363/363 [==============================] - 1s 1ms/step - loss: 0.5846 - mae: 0.5491 - val_loss: 0.5166 - val_mae: 0.5207\n",
      "Epoch 5/200\n",
      "363/363 [==============================] - 1s 2ms/step - loss: 0.5321 - mae: 0.5292 - val_loss: 0.4895 - val_mae: 0.5022\n",
      "Epoch 6/200\n",
      "363/363 [==============================] - 1s 2ms/step - loss: 0.5083 - mae: 0.5146 - val_loss: 0.4951 - val_mae: 0.4934\n",
      "Epoch 7/200\n",
      "363/363 [==============================] - 1s 2ms/step - loss: 0.5044 - mae: 0.5060 - val_loss: 0.4861 - val_mae: 0.4838\n",
      "Epoch 8/200\n",
      "363/363 [==============================] - 1s 1ms/step - loss: 0.4813 - mae: 0.4968 - val_loss: 0.4554 - val_mae: 0.4753\n",
      "Epoch 9/200\n",
      "363/363 [==============================] - 1s 1ms/step - loss: 0.4627 - mae: 0.4882 - val_loss: 0.4413 - val_mae: 0.4671\n",
      "Epoch 10/200\n",
      "363/363 [==============================] - 1s 1ms/step - loss: 0.4549 - mae: 0.4846 - val_loss: 0.4379 - val_mae: 0.4623\n",
      "Epoch 11/200\n",
      "363/363 [==============================] - 1s 1ms/step - loss: 0.4416 - mae: 0.4758 - val_loss: 0.4396 - val_mae: 0.4638\n",
      "Epoch 12/200\n",
      "363/363 [==============================] - 1s 2ms/step - loss: 0.4295 - mae: 0.4715 - val_loss: 0.4507 - val_mae: 0.4573\n",
      "Epoch 13/200\n",
      "363/363 [==============================] - 1s 2ms/step - loss: 0.4326 - mae: 0.4702 - val_loss: 0.3997 - val_mae: 0.4517\n",
      "Epoch 14/200\n",
      "363/363 [==============================] - 0s 1ms/step - loss: 0.4207 - mae: 0.4651 - val_loss: 0.3956 - val_mae: 0.4497\n",
      "Epoch 15/200\n",
      "363/363 [==============================] - 0s 1ms/step - loss: 0.4198 - mae: 0.4582 - val_loss: 0.3916 - val_mae: 0.4464\n",
      "Epoch 16/200\n",
      "363/363 [==============================] - 0s 1ms/step - loss: 0.4248 - mae: 0.4652 - val_loss: 0.3937 - val_mae: 0.4445\n",
      "Epoch 17/200\n",
      "363/363 [==============================] - 0s 1ms/step - loss: 0.4105 - mae: 0.4598 - val_loss: 0.3809 - val_mae: 0.4390\n",
      "Epoch 18/200\n",
      "363/363 [==============================] - 0s 1ms/step - loss: 0.4070 - mae: 0.4585 - val_loss: 0.3793 - val_mae: 0.4368\n",
      "Epoch 19/200\n",
      "363/363 [==============================] - 1s 2ms/step - loss: 0.3902 - mae: 0.4500 - val_loss: 0.3850 - val_mae: 0.4369\n",
      "Epoch 20/200\n",
      "363/363 [==============================] - 0s 1ms/step - loss: 0.3864 - mae: 0.4441 - val_loss: 0.3809 - val_mae: 0.4368\n",
      "Epoch 21/200\n",
      "363/363 [==============================] - 1s 1ms/step - loss: 0.3978 - mae: 0.4504 - val_loss: 0.3701 - val_mae: 0.4350\n",
      "Epoch 22/200\n",
      "363/363 [==============================] - 1s 1ms/step - loss: 0.3816 - mae: 0.4437 - val_loss: 0.3781 - val_mae: 0.4358\n",
      "Epoch 23/200\n",
      "363/363 [==============================] - 1s 1ms/step - loss: 0.4042 - mae: 0.4556 - val_loss: 0.3650 - val_mae: 0.4267\n",
      "Epoch 24/200\n",
      "363/363 [==============================] - 1s 1ms/step - loss: 0.3823 - mae: 0.4427 - val_loss: 0.3655 - val_mae: 0.4271\n",
      "Epoch 25/200\n",
      "363/363 [==============================] - 0s 1ms/step - loss: 0.3792 - mae: 0.4412 - val_loss: 0.3611 - val_mae: 0.4257\n",
      "Epoch 26/200\n",
      "363/363 [==============================] - 0s 1ms/step - loss: 0.3800 - mae: 0.4388 - val_loss: 0.3626 - val_mae: 0.4256\n",
      "Epoch 27/200\n",
      "363/363 [==============================] - 0s 1ms/step - loss: 0.3858 - mae: 0.4426 - val_loss: 0.3564 - val_mae: 0.4242\n",
      "Epoch 28/200\n",
      "363/363 [==============================] - 0s 1ms/step - loss: 0.3839 - mae: 0.4427 - val_loss: 0.3579 - val_mae: 0.4259\n",
      "Epoch 29/200\n",
      "363/363 [==============================] - 0s 1ms/step - loss: 0.3736 - mae: 0.4377 - val_loss: 0.3561 - val_mae: 0.4244\n",
      "Epoch 30/200\n",
      "363/363 [==============================] - 0s 1ms/step - loss: 0.3843 - mae: 0.4409 - val_loss: 0.3548 - val_mae: 0.4214\n",
      "Epoch 31/200\n",
      "363/363 [==============================] - 0s 1ms/step - loss: 0.3751 - mae: 0.4377 - val_loss: 0.3502 - val_mae: 0.4193\n",
      "Epoch 32/200\n",
      "363/363 [==============================] - 0s 1ms/step - loss: 0.3668 - mae: 0.4360 - val_loss: 0.3642 - val_mae: 0.4253\n",
      "Epoch 33/200\n",
      "363/363 [==============================] - 0s 1ms/step - loss: 0.3737 - mae: 0.4378 - val_loss: 0.3468 - val_mae: 0.4182\n",
      "Epoch 34/200\n",
      "363/363 [==============================] - 0s 1ms/step - loss: 0.3613 - mae: 0.4265 - val_loss: 0.3474 - val_mae: 0.4183\n",
      "Epoch 35/200\n",
      "363/363 [==============================] - 0s 1ms/step - loss: 0.3580 - mae: 0.4271 - val_loss: 0.3624 - val_mae: 0.4218\n",
      "Epoch 36/200\n",
      "363/363 [==============================] - 0s 1ms/step - loss: 0.3562 - mae: 0.4266 - val_loss: 0.3438 - val_mae: 0.4149\n",
      "Epoch 37/200\n",
      "363/363 [==============================] - 0s 1ms/step - loss: 0.3889 - mae: 0.4373 - val_loss: 0.3611 - val_mae: 0.4193\n",
      "Epoch 38/200\n",
      "363/363 [==============================] - 0s 1ms/step - loss: 0.3550 - mae: 0.4228 - val_loss: 0.3459 - val_mae: 0.4158\n",
      "Epoch 39/200\n",
      "363/363 [==============================] - 0s 1ms/step - loss: 0.3789 - mae: 0.4361 - val_loss: 0.3492 - val_mae: 0.4150\n",
      "Epoch 40/200\n",
      "363/363 [==============================] - 0s 1ms/step - loss: 0.3580 - mae: 0.4235 - val_loss: 0.3433 - val_mae: 0.4127\n",
      "Epoch 41/200\n",
      "363/363 [==============================] - 0s 1ms/step - loss: 0.3771 - mae: 0.4332 - val_loss: 0.3556 - val_mae: 0.4161\n",
      "Epoch 42/200\n",
      "363/363 [==============================] - 0s 1ms/step - loss: 0.3553 - mae: 0.4257 - val_loss: 0.3483 - val_mae: 0.4125\n",
      "Epoch 43/200\n",
      "363/363 [==============================] - 0s 1ms/step - loss: 0.3619 - mae: 0.4267 - val_loss: 0.3685 - val_mae: 0.4153\n",
      "Epoch 44/200\n",
      "363/363 [==============================] - 1s 2ms/step - loss: 0.3485 - mae: 0.4211 - val_loss: 0.3604 - val_mae: 0.4174\n",
      "Epoch 45/200\n",
      "363/363 [==============================] - 0s 1ms/step - loss: 0.3637 - mae: 0.4291 - val_loss: 0.3399 - val_mae: 0.4097\n",
      "Epoch 46/200\n",
      "363/363 [==============================] - 0s 1ms/step - loss: 0.3569 - mae: 0.4206 - val_loss: 0.3506 - val_mae: 0.4130\n",
      "Epoch 47/200\n",
      "363/363 [==============================] - 0s 1ms/step - loss: 0.3694 - mae: 0.4312 - val_loss: 0.3481 - val_mae: 0.4106\n",
      "Epoch 48/200\n",
      "363/363 [==============================] - 0s 1ms/step - loss: 0.3468 - mae: 0.4168 - val_loss: 0.3663 - val_mae: 0.4138\n",
      "Epoch 49/200\n",
      "363/363 [==============================] - 0s 1ms/step - loss: 0.3589 - mae: 0.4219 - val_loss: 0.3355 - val_mae: 0.4104\n",
      "Epoch 50/200\n",
      "363/363 [==============================] - 0s 1ms/step - loss: 0.3618 - mae: 0.4200 - val_loss: 0.3324 - val_mae: 0.4074\n",
      "Epoch 51/200\n",
      "363/363 [==============================] - 0s 1ms/step - loss: 0.3548 - mae: 0.4220 - val_loss: 0.3465 - val_mae: 0.4121\n",
      "Epoch 52/200\n",
      "363/363 [==============================] - 0s 1ms/step - loss: 0.3463 - mae: 0.4155 - val_loss: 0.3309 - val_mae: 0.4058\n",
      "Epoch 53/200\n",
      "363/363 [==============================] - 0s 1ms/step - loss: 0.3526 - mae: 0.4176 - val_loss: 0.3830 - val_mae: 0.4105\n",
      "Epoch 54/200\n",
      "363/363 [==============================] - 0s 1ms/step - loss: 0.3391 - mae: 0.4161 - val_loss: 0.3302 - val_mae: 0.4085\n",
      "Epoch 55/200\n",
      "363/363 [==============================] - 0s 1ms/step - loss: 0.3520 - mae: 0.4200 - val_loss: 0.3534 - val_mae: 0.4087\n",
      "Epoch 56/200\n",
      "363/363 [==============================] - 0s 1ms/step - loss: 0.3396 - mae: 0.4114 - val_loss: 0.3289 - val_mae: 0.4066\n",
      "Epoch 57/200\n",
      "363/363 [==============================] - 0s 1ms/step - loss: 0.3452 - mae: 0.4141 - val_loss: 0.3282 - val_mae: 0.4051\n",
      "Epoch 58/200\n",
      "363/363 [==============================] - 1s 2ms/step - loss: 0.3367 - mae: 0.4131 - val_loss: 0.3723 - val_mae: 0.4089\n",
      "Epoch 59/200\n",
      "363/363 [==============================] - 0s 1ms/step - loss: 0.3448 - mae: 0.4195 - val_loss: 0.3351 - val_mae: 0.4059\n",
      "Epoch 60/200\n",
      "363/363 [==============================] - 0s 1ms/step - loss: 0.3426 - mae: 0.4112 - val_loss: 0.3514 - val_mae: 0.4093\n",
      "Epoch 61/200\n",
      "363/363 [==============================] - 0s 1ms/step - loss: 0.3571 - mae: 0.4216 - val_loss: 0.3523 - val_mae: 0.4123\n",
      "Epoch 62/200\n",
      "363/363 [==============================] - 0s 1ms/step - loss: 0.3525 - mae: 0.4197 - val_loss: 0.3451 - val_mae: 0.4068\n",
      "Epoch 63/200\n",
      "363/363 [==============================] - 1s 2ms/step - loss: 0.3469 - mae: 0.4173 - val_loss: 0.3341 - val_mae: 0.4083\n",
      "Epoch 64/200\n",
      "363/363 [==============================] - 0s 1ms/step - loss: 0.3257 - mae: 0.4075 - val_loss: 0.3251 - val_mae: 0.4044\n",
      "Epoch 65/200\n",
      "363/363 [==============================] - 1s 1ms/step - loss: 0.3422 - mae: 0.4148 - val_loss: 0.3380 - val_mae: 0.4051\n",
      "Epoch 66/200\n",
      "363/363 [==============================] - 0s 1ms/step - loss: 0.3368 - mae: 0.4129 - val_loss: 0.3288 - val_mae: 0.4039\n",
      "Epoch 67/200\n",
      "363/363 [==============================] - 0s 1ms/step - loss: 0.3516 - mae: 0.4181 - val_loss: 0.3591 - val_mae: 0.4090\n",
      "Epoch 68/200\n",
      "363/363 [==============================] - 0s 1ms/step - loss: 0.3361 - mae: 0.4106 - val_loss: 0.3313 - val_mae: 0.4037\n",
      "Epoch 69/200\n",
      "363/363 [==============================] - 0s 1ms/step - loss: 0.3403 - mae: 0.4141 - val_loss: 0.3371 - val_mae: 0.4060\n",
      "Epoch 70/200\n",
      "363/363 [==============================] - 0s 1ms/step - loss: 0.3359 - mae: 0.4086 - val_loss: 0.3565 - val_mae: 0.4044\n",
      "Epoch 71/200\n",
      "363/363 [==============================] - 0s 1ms/step - loss: 0.3413 - mae: 0.4137 - val_loss: 0.3607 - val_mae: 0.4067\n",
      "Epoch 72/200\n",
      "363/363 [==============================] - 0s 1ms/step - loss: 0.3243 - mae: 0.4061 - val_loss: 0.3318 - val_mae: 0.4033\n",
      "Epoch 73/200\n",
      "363/363 [==============================] - 0s 1ms/step - loss: 0.3414 - mae: 0.4120 - val_loss: 0.3239 - val_mae: 0.4008\n",
      "Epoch 74/200\n",
      "363/363 [==============================] - 1s 1ms/step - loss: 0.3363 - mae: 0.4079 - val_loss: 0.3839 - val_mae: 0.4072\n",
      "Epoch 75/200\n",
      "363/363 [==============================] - 0s 1ms/step - loss: 0.3307 - mae: 0.4088 - val_loss: 0.3286 - val_mae: 0.4040\n",
      "Epoch 76/200\n",
      "363/363 [==============================] - 0s 1ms/step - loss: 0.3363 - mae: 0.4126 - val_loss: 0.3464 - val_mae: 0.4034\n",
      "Epoch 77/200\n",
      "363/363 [==============================] - 0s 1ms/step - loss: 0.3260 - mae: 0.4047 - val_loss: 0.3490 - val_mae: 0.4070\n",
      "Epoch 78/200\n",
      "363/363 [==============================] - 0s 1ms/step - loss: 0.3368 - mae: 0.4114 - val_loss: 0.3470 - val_mae: 0.4035\n",
      "Epoch 79/200\n",
      "363/363 [==============================] - 0s 1ms/step - loss: 0.3348 - mae: 0.4145 - val_loss: 0.3401 - val_mae: 0.4031\n",
      "Epoch 80/200\n",
      "363/363 [==============================] - 0s 1ms/step - loss: 0.3364 - mae: 0.4096 - val_loss: 0.3387 - val_mae: 0.4013\n",
      "Epoch 81/200\n",
      "363/363 [==============================] - 1s 1ms/step - loss: 0.3335 - mae: 0.4076 - val_loss: 0.3321 - val_mae: 0.4005\n",
      "Epoch 82/200\n",
      "363/363 [==============================] - 0s 1ms/step - loss: 0.3478 - mae: 0.4147 - val_loss: 0.3192 - val_mae: 0.3990\n",
      "Epoch 83/200\n",
      "363/363 [==============================] - 0s 1ms/step - loss: 0.3407 - mae: 0.4131 - val_loss: 0.3296 - val_mae: 0.3996\n",
      "Epoch 84/200\n",
      "363/363 [==============================] - 0s 1ms/step - loss: 0.3217 - mae: 0.4019 - val_loss: 0.3709 - val_mae: 0.4052\n",
      "Epoch 85/200\n",
      "363/363 [==============================] - 0s 1ms/step - loss: 0.3270 - mae: 0.4039 - val_loss: 0.3211 - val_mae: 0.3966\n",
      "Epoch 86/200\n",
      "363/363 [==============================] - 0s 1ms/step - loss: 0.3222 - mae: 0.4015 - val_loss: 0.3182 - val_mae: 0.3968\n",
      "Epoch 87/200\n",
      "363/363 [==============================] - 0s 1ms/step - loss: 0.3432 - mae: 0.4120 - val_loss: 0.3572 - val_mae: 0.4028\n",
      "Epoch 88/200\n",
      "363/363 [==============================] - 0s 1ms/step - loss: 0.3299 - mae: 0.4041 - val_loss: 0.3315 - val_mae: 0.3985\n",
      "Epoch 89/200\n",
      "363/363 [==============================] - 0s 1ms/step - loss: 0.3244 - mae: 0.4006 - val_loss: 0.3646 - val_mae: 0.4019\n",
      "Epoch 90/200\n",
      "363/363 [==============================] - 0s 1ms/step - loss: 0.3226 - mae: 0.4012 - val_loss: 0.3457 - val_mae: 0.4014\n",
      "Epoch 91/200\n",
      "363/363 [==============================] - 0s 1ms/step - loss: 0.3266 - mae: 0.4035 - val_loss: 0.3253 - val_mae: 0.3977\n",
      "Epoch 92/200\n",
      "363/363 [==============================] - 1s 1ms/step - loss: 0.3317 - mae: 0.4054 - val_loss: 0.3464 - val_mae: 0.4006\n",
      "Epoch 93/200\n",
      "363/363 [==============================] - 0s 1ms/step - loss: 0.3460 - mae: 0.4141 - val_loss: 0.3197 - val_mae: 0.3979\n",
      "Epoch 94/200\n",
      "363/363 [==============================] - 0s 1ms/step - loss: 0.3243 - mae: 0.4021 - val_loss: 0.3430 - val_mae: 0.4029\n",
      "Epoch 95/200\n",
      "363/363 [==============================] - 0s 1ms/step - loss: 0.3263 - mae: 0.4042 - val_loss: 0.3414 - val_mae: 0.3988\n",
      "Epoch 96/200\n",
      "363/363 [==============================] - 0s 1ms/step - loss: 0.3375 - mae: 0.4079 - val_loss: 0.3266 - val_mae: 0.3987\n"
     ]
    }
   ],
   "source": [
    "history = model.fit(x_train, y_train, epochs = 200, validation_data = (x_valid, y_valid),\n",
    "                   callbacks = [checkpoint_cb, early_stopping_cb])"
   ]
  },
  {
   "cell_type": "code",
   "execution_count": 104,
   "metadata": {},
   "outputs": [
    {
     "name": "stdout",
     "output_type": "stream",
     "text": [
      "162/162 [==============================] - 0s 936us/step - loss: 0.3343 - mae: 0.4059\n"
     ]
    }
   ],
   "source": [
    "model = keras.models.load_model(\"early_stop_model.h5\")\n",
    "mse = model.evaluate(x_test, y_test)"
   ]
  },
  {
   "cell_type": "code",
   "execution_count": null,
   "metadata": {},
   "outputs": [],
   "source": []
  }
 ],
 "metadata": {
  "kernelspec": {
   "display_name": "Python 3",
   "language": "python",
   "name": "python3"
  },
  "language_info": {
   "codemirror_mode": {
    "name": "ipython",
    "version": 3
   },
   "file_extension": ".py",
   "mimetype": "text/x-python",
   "name": "python",
   "nbconvert_exporter": "python",
   "pygments_lexer": "ipython3",
   "version": "3.8.5"
  }
 },
 "nbformat": 4,
 "nbformat_minor": 4
}
